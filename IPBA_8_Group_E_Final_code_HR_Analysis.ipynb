{
  "cells": [
    {
      "cell_type": "raw",
      "metadata": {
        "id": "bH5rdyOS_PfM"
      },
      "source": [
        "import os\n",
        "import pandas as pd\n",
        "import numpy as np\n",
        "\n",
        "hr_df = pd.read_csv(\"C:/Users/Kavit/Downloads/Project/train.csv\")\n",
        "hr_df.isnull().sum()\n",
        "\n",
        "from numpy import isnan\n",
        "from sklearn.impute import SimpleImputer\n",
        "value = hr_df.values\n",
        "\n",
        "\n",
        "hr_df.fillna(hr_df.median(), inplace=True)\n",
        "hr_df.isnull().sum()\n",
        "hr_df.loc[:,['age','length_of_service','education']]\n",
        "##hr_df['education'].replace(np.nan, 0, inplace=True)\n",
        "hr_df['education'].replace(['Bachelor\\'s', 'Below Secondary','Master\\'s & above'],[1,2,3], inplace=True)\n",
        "hr_df.loc[:,['age','length_of_service','education']]\n",
        "imputed_hr_df = hr_df.loc[:,['age','length_of_service','education']]\n",
        "fit_imputed_hr_df = imputed_hr_df.loc[imputed_hr_df['education']>0]\n",
        "#test_imputed_hr_df = imputed_hr_df.loc[imputed_hr_df['education'].isna()]\n",
        "test_imputed_hr_df = hr_df.loc[hr_df['education'].isna()]\n",
        "\n",
        "\n",
        "hr_df['department'], mapping_index_department = pd.Series(hr_df['department']).factorize()\n",
        "hr_df['region'], mapping_index_region = pd.Series(hr_df['region']).factorize()\n",
        "hr_df['gender'], mapping_index_gender = pd.Series(hr_df['gender']).factorize()\n",
        "hr_df['recruitment_channel'], mapping_index_channel = pd.Series(hr_df['recruitment_channel']).factorize()\n",
        "\n",
        "print(hr_df)\n",
        "print(mapping_index.get_loc(\"HR\"))\n",
        "hr_df.isnull().sum()\n",
        "\n",
        "import numpy as np\n",
        "from sklearn.experimental import enable_iterative_imputer\n",
        "from sklearn.impute import IterativeImputer\n",
        "imp = IterativeImputer(max_iter=10, random_state=0)\n",
        "imp.fit(hr_df)\n",
        "IterativeImputer(random_state=0)\n",
        "X_test = test_imputed_hr_df\n",
        "# the model learns that the second feature is double the first\n",
        "print(np.round(imp.transform(X_test)))\n",
        "impute_final = np.round(imp.transform(X_test))\n",
        "impute_final_hr_df = pd.DataFrame(impute_final)\n",
        "impute_final_hr_df.isnull().sum()\n",
        "\n",
        "impute_final_hr_df.to_csv('C:/Users/Kavit/Downloads/Project/impute_final_hr_df.csv')\n"
      ]
    },
    {
      "cell_type": "code",
      "execution_count": null,
      "metadata": {
        "id": "epJ5k-ck_PfR"
      },
      "outputs": [],
      "source": [
        "import os\n",
        "import pandas as pd\n",
        "import numpy as np\n",
        "import seaborn as sns\n",
        "import matplotlib.pyplot as plt\n",
        "from scipy.stats import skew\n",
        "from sklearn.linear_model import LogisticRegression"
      ]
    },
    {
      "cell_type": "code",
      "execution_count": null,
      "metadata": {
        "id": "0nRdczCc_PfU"
      },
      "outputs": [],
      "source": [
        "hr_dir=r\"E:\\Integrated Program of Business Analytics (IPBA8)- Business Analytics\\CAPSTONE project\"\n",
        "os.chdir(hr_dir)"
      ]
    },
    {
      "cell_type": "code",
      "execution_count": null,
      "metadata": {
        "id": "XYTBRTEu_PfU"
      },
      "outputs": [],
      "source": [
        "hr=pd.read_csv(\"E:\\\\Integrated Program of Business Analytics (IPBA8)- Business Analytics\\\\CAPSTONE project\\\\IPBA _Batch 8_GROUP L - HR Analtyics - Final Project from JA\\\\final_hr_df.csv\",sep=\",\")"
      ]
    },
    {
      "cell_type": "code",
      "execution_count": null,
      "metadata": {
        "id": "90Bg_w_p_PfV",
        "outputId": "44e10737-0f5c-42f4-bb0a-4ef206e6f887"
      },
      "outputs": [
        {
          "name": "stdout",
          "output_type": "stream",
          "text": [
            "shape of dataframe is :  (54808, 14)\n",
            "<class 'pandas.core.frame.DataFrame'>\n",
            "RangeIndex: 54808 entries, 0 to 54807\n",
            "Data columns (total 14 columns):\n",
            " #   Column                Non-Null Count  Dtype\n",
            "---  ------                --------------  -----\n",
            " 0   employee_id           54808 non-null  int64\n",
            " 1   department            54808 non-null  int64\n",
            " 2   region                54808 non-null  int64\n",
            " 3   education             54808 non-null  int64\n",
            " 4   gender                54808 non-null  int64\n",
            " 5   recruitment_channel   54808 non-null  int64\n",
            " 6   no_of_trainings       54808 non-null  int64\n",
            " 7   age                   54808 non-null  int64\n",
            " 8   previous_year_rating  54808 non-null  int64\n",
            " 9   length_of_service     54808 non-null  int64\n",
            " 10  KPIs_met >80%         54808 non-null  int64\n",
            " 11  awards_won?           54808 non-null  int64\n",
            " 12  avg_training_score    54808 non-null  int64\n",
            " 13  is_promoted           54808 non-null  int64\n",
            "dtypes: int64(14)\n",
            "memory usage: 5.9 MB\n"
          ]
        },
        {
          "data": {
            "text/html": [
              "<div>\n",
              "<style scoped>\n",
              "    .dataframe tbody tr th:only-of-type {\n",
              "        vertical-align: middle;\n",
              "    }\n",
              "\n",
              "    .dataframe tbody tr th {\n",
              "        vertical-align: top;\n",
              "    }\n",
              "\n",
              "    .dataframe thead th {\n",
              "        text-align: right;\n",
              "    }\n",
              "</style>\n",
              "<table border=\"1\" class=\"dataframe\">\n",
              "  <thead>\n",
              "    <tr style=\"text-align: right;\">\n",
              "      <th></th>\n",
              "      <th>employee_id</th>\n",
              "      <th>department</th>\n",
              "      <th>region</th>\n",
              "      <th>education</th>\n",
              "      <th>gender</th>\n",
              "      <th>recruitment_channel</th>\n",
              "      <th>no_of_trainings</th>\n",
              "      <th>age</th>\n",
              "      <th>previous_year_rating</th>\n",
              "      <th>length_of_service</th>\n",
              "      <th>KPIs_met &gt;80%</th>\n",
              "      <th>awards_won?</th>\n",
              "      <th>avg_training_score</th>\n",
              "      <th>is_promoted</th>\n",
              "    </tr>\n",
              "  </thead>\n",
              "  <tbody>\n",
              "    <tr>\n",
              "      <th>count</th>\n",
              "      <td>54808.000000</td>\n",
              "      <td>54808.000000</td>\n",
              "      <td>54808.000000</td>\n",
              "      <td>54808.000000</td>\n",
              "      <td>54808.000000</td>\n",
              "      <td>54808.000000</td>\n",
              "      <td>54808.000000</td>\n",
              "      <td>54808.000000</td>\n",
              "      <td>54808.000000</td>\n",
              "      <td>54808.000000</td>\n",
              "      <td>54808.000000</td>\n",
              "      <td>54808.000000</td>\n",
              "      <td>54808.000000</td>\n",
              "      <td>54808.000000</td>\n",
              "    </tr>\n",
              "    <tr>\n",
              "      <th>mean</th>\n",
              "      <td>39195.830627</td>\n",
              "      <td>2.222668</td>\n",
              "      <td>9.842815</td>\n",
              "      <td>1.571814</td>\n",
              "      <td>0.702379</td>\n",
              "      <td>0.597176</td>\n",
              "      <td>1.253011</td>\n",
              "      <td>34.803915</td>\n",
              "      <td>3.304481</td>\n",
              "      <td>5.865512</td>\n",
              "      <td>0.351974</td>\n",
              "      <td>0.023172</td>\n",
              "      <td>63.386750</td>\n",
              "      <td>0.085170</td>\n",
              "    </tr>\n",
              "    <tr>\n",
              "      <th>std</th>\n",
              "      <td>22586.581449</td>\n",
              "      <td>2.292378</td>\n",
              "      <td>8.543512</td>\n",
              "      <td>0.888756</td>\n",
              "      <td>0.457216</td>\n",
              "      <td>0.531258</td>\n",
              "      <td>0.609264</td>\n",
              "      <td>7.660169</td>\n",
              "      <td>1.214770</td>\n",
              "      <td>4.265094</td>\n",
              "      <td>0.477590</td>\n",
              "      <td>0.150450</td>\n",
              "      <td>13.371559</td>\n",
              "      <td>0.279137</td>\n",
              "    </tr>\n",
              "    <tr>\n",
              "      <th>min</th>\n",
              "      <td>1.000000</td>\n",
              "      <td>0.000000</td>\n",
              "      <td>0.000000</td>\n",
              "      <td>1.000000</td>\n",
              "      <td>0.000000</td>\n",
              "      <td>0.000000</td>\n",
              "      <td>1.000000</td>\n",
              "      <td>20.000000</td>\n",
              "      <td>1.000000</td>\n",
              "      <td>1.000000</td>\n",
              "      <td>0.000000</td>\n",
              "      <td>0.000000</td>\n",
              "      <td>39.000000</td>\n",
              "      <td>0.000000</td>\n",
              "    </tr>\n",
              "    <tr>\n",
              "      <th>25%</th>\n",
              "      <td>19669.750000</td>\n",
              "      <td>0.000000</td>\n",
              "      <td>4.000000</td>\n",
              "      <td>1.000000</td>\n",
              "      <td>0.000000</td>\n",
              "      <td>0.000000</td>\n",
              "      <td>1.000000</td>\n",
              "      <td>29.000000</td>\n",
              "      <td>3.000000</td>\n",
              "      <td>3.000000</td>\n",
              "      <td>0.000000</td>\n",
              "      <td>0.000000</td>\n",
              "      <td>51.000000</td>\n",
              "      <td>0.000000</td>\n",
              "    </tr>\n",
              "    <tr>\n",
              "      <th>50%</th>\n",
              "      <td>39225.500000</td>\n",
              "      <td>1.000000</td>\n",
              "      <td>5.000000</td>\n",
              "      <td>1.000000</td>\n",
              "      <td>1.000000</td>\n",
              "      <td>1.000000</td>\n",
              "      <td>1.000000</td>\n",
              "      <td>33.000000</td>\n",
              "      <td>3.000000</td>\n",
              "      <td>5.000000</td>\n",
              "      <td>0.000000</td>\n",
              "      <td>0.000000</td>\n",
              "      <td>60.000000</td>\n",
              "      <td>0.000000</td>\n",
              "    </tr>\n",
              "    <tr>\n",
              "      <th>75%</th>\n",
              "      <td>58730.500000</td>\n",
              "      <td>4.000000</td>\n",
              "      <td>16.000000</td>\n",
              "      <td>3.000000</td>\n",
              "      <td>1.000000</td>\n",
              "      <td>1.000000</td>\n",
              "      <td>1.000000</td>\n",
              "      <td>39.000000</td>\n",
              "      <td>4.000000</td>\n",
              "      <td>7.000000</td>\n",
              "      <td>1.000000</td>\n",
              "      <td>0.000000</td>\n",
              "      <td>76.000000</td>\n",
              "      <td>0.000000</td>\n",
              "    </tr>\n",
              "    <tr>\n",
              "      <th>max</th>\n",
              "      <td>78298.000000</td>\n",
              "      <td>8.000000</td>\n",
              "      <td>33.000000</td>\n",
              "      <td>3.000000</td>\n",
              "      <td>1.000000</td>\n",
              "      <td>2.000000</td>\n",
              "      <td>10.000000</td>\n",
              "      <td>60.000000</td>\n",
              "      <td>5.000000</td>\n",
              "      <td>37.000000</td>\n",
              "      <td>1.000000</td>\n",
              "      <td>1.000000</td>\n",
              "      <td>99.000000</td>\n",
              "      <td>1.000000</td>\n",
              "    </tr>\n",
              "  </tbody>\n",
              "</table>\n",
              "</div>"
            ],
            "text/plain": [
              "        employee_id    department        region     education        gender  \\\n",
              "count  54808.000000  54808.000000  54808.000000  54808.000000  54808.000000   \n",
              "mean   39195.830627      2.222668      9.842815      1.571814      0.702379   \n",
              "std    22586.581449      2.292378      8.543512      0.888756      0.457216   \n",
              "min        1.000000      0.000000      0.000000      1.000000      0.000000   \n",
              "25%    19669.750000      0.000000      4.000000      1.000000      0.000000   \n",
              "50%    39225.500000      1.000000      5.000000      1.000000      1.000000   \n",
              "75%    58730.500000      4.000000     16.000000      3.000000      1.000000   \n",
              "max    78298.000000      8.000000     33.000000      3.000000      1.000000   \n",
              "\n",
              "       recruitment_channel  no_of_trainings           age  \\\n",
              "count         54808.000000     54808.000000  54808.000000   \n",
              "mean              0.597176         1.253011     34.803915   \n",
              "std               0.531258         0.609264      7.660169   \n",
              "min               0.000000         1.000000     20.000000   \n",
              "25%               0.000000         1.000000     29.000000   \n",
              "50%               1.000000         1.000000     33.000000   \n",
              "75%               1.000000         1.000000     39.000000   \n",
              "max               2.000000        10.000000     60.000000   \n",
              "\n",
              "       previous_year_rating  length_of_service  KPIs_met >80%   awards_won?  \\\n",
              "count          54808.000000       54808.000000   54808.000000  54808.000000   \n",
              "mean               3.304481           5.865512       0.351974      0.023172   \n",
              "std                1.214770           4.265094       0.477590      0.150450   \n",
              "min                1.000000           1.000000       0.000000      0.000000   \n",
              "25%                3.000000           3.000000       0.000000      0.000000   \n",
              "50%                3.000000           5.000000       0.000000      0.000000   \n",
              "75%                4.000000           7.000000       1.000000      0.000000   \n",
              "max                5.000000          37.000000       1.000000      1.000000   \n",
              "\n",
              "       avg_training_score   is_promoted  \n",
              "count        54808.000000  54808.000000  \n",
              "mean            63.386750      0.085170  \n",
              "std             13.371559      0.279137  \n",
              "min             39.000000      0.000000  \n",
              "25%             51.000000      0.000000  \n",
              "50%             60.000000      0.000000  \n",
              "75%             76.000000      0.000000  \n",
              "max             99.000000      1.000000  "
            ]
          },
          "execution_count": 4,
          "metadata": {},
          "output_type": "execute_result"
        }
      ],
      "source": [
        "#shape of dataset\n",
        "print(\"shape of dataframe is : \", hr.shape)\n",
        "#Let's look at first 5 rows of dataset\n",
        "hr.head(5)\n",
        "# summary of data\n",
        "hr.info()\n",
        "#Get Statistical details of data\n",
        "hr.describe()"
      ]
    },
    {
      "cell_type": "code",
      "execution_count": null,
      "metadata": {
        "id": "GJlEYjwi_PfY",
        "outputId": "397a09e3-25aa-4b3e-d5c3-1399d5e3d6a2"
      },
      "outputs": [
        {
          "name": "stdout",
          "output_type": "stream",
          "text": [
            "Columns having 1 unique value are :n []\n"
          ]
        }
      ],
      "source": [
        "##DATA CLEANING\n",
        "#Checking the unique value counts in columns\n",
        "featureValues={}\n",
        "for d in hr.columns.tolist():\n",
        "        count=hr[d].nunique()\n",
        "if count==1:\n",
        "        featureValues[d]=count\n",
        "# List of columns having same 1 unique value\n",
        "cols_to_drop= list(featureValues.keys())\n",
        "print(\"Columns having 1 unique value are :n\",cols_to_drop)"
      ]
    },
    {
      "cell_type": "code",
      "execution_count": null,
      "metadata": {
        "id": "xyhSKZWG_Pfa",
        "outputId": "3c1f21b1-b1f3-4887-a7bc-fd032f7de209"
      },
      "outputs": [
        {
          "data": {
            "text/plain": [
              "employee_id             0\n",
              "department              0\n",
              "region                  0\n",
              "education               0\n",
              "gender                  0\n",
              "recruitment_channel     0\n",
              "no_of_trainings         0\n",
              "age                     0\n",
              "previous_year_rating    0\n",
              "length_of_service       0\n",
              "KPIs_met >80%           0\n",
              "awards_won?             0\n",
              "avg_training_score      0\n",
              "is_promoted             0\n",
              "dtype: int64"
            ]
          },
          "execution_count": 6,
          "metadata": {},
          "output_type": "execute_result"
        }
      ],
      "source": [
        "#Checking null values\n",
        "hr.isnull().sum()"
      ]
    },
    {
      "cell_type": "code",
      "execution_count": null,
      "metadata": {
        "id": "Qhx-7x-e_Pfb",
        "outputId": "1911c55d-c7b9-4cac-b23a-847b4e404c9c"
      },
      "outputs": [
        {
          "data": {
            "text/plain": [
              "Index(['employee_id', 'department', 'region', 'education', 'gender',\n",
              "       'recruitment_channel', 'no_of_trainings', 'age', 'previous_year_rating',\n",
              "       'length_of_service', 'KPIs_met >80%', 'awards_won?',\n",
              "       'avg_training_score', 'is_promoted'],\n",
              "      dtype='object')"
            ]
          },
          "execution_count": 7,
          "metadata": {},
          "output_type": "execute_result"
        }
      ],
      "source": [
        "hr.columns"
      ]
    },
    {
      "cell_type": "code",
      "execution_count": null,
      "metadata": {
        "id": "oxEeQbS5_Pfb",
        "outputId": "bd5549a4-90ee-43bb-8018-2bb8cf671662"
      },
      "outputs": [
        {
          "data": {
            "text/html": [
              "<div>\n",
              "<style scoped>\n",
              "    .dataframe tbody tr th:only-of-type {\n",
              "        vertical-align: middle;\n",
              "    }\n",
              "\n",
              "    .dataframe tbody tr th {\n",
              "        vertical-align: top;\n",
              "    }\n",
              "\n",
              "    .dataframe thead th {\n",
              "        text-align: right;\n",
              "    }\n",
              "</style>\n",
              "<table border=\"1\" class=\"dataframe\">\n",
              "  <thead>\n",
              "    <tr style=\"text-align: right;\">\n",
              "      <th></th>\n",
              "      <th>department</th>\n",
              "      <th>region</th>\n",
              "      <th>education</th>\n",
              "      <th>gender</th>\n",
              "      <th>recruitment_channel</th>\n",
              "      <th>no_of_trainings</th>\n",
              "      <th>age</th>\n",
              "      <th>previous_year_rating</th>\n",
              "      <th>length_of_service</th>\n",
              "      <th>KPIs_met &gt;80%</th>\n",
              "      <th>awards_won?</th>\n",
              "      <th>avg_training_score</th>\n",
              "      <th>is_promoted</th>\n",
              "    </tr>\n",
              "  </thead>\n",
              "  <tbody>\n",
              "    <tr>\n",
              "      <th>0</th>\n",
              "      <td>0</td>\n",
              "      <td>0</td>\n",
              "      <td>3</td>\n",
              "      <td>0</td>\n",
              "      <td>0</td>\n",
              "      <td>1</td>\n",
              "      <td>35</td>\n",
              "      <td>5</td>\n",
              "      <td>8</td>\n",
              "      <td>1</td>\n",
              "      <td>0</td>\n",
              "      <td>49</td>\n",
              "      <td>0</td>\n",
              "    </tr>\n",
              "    <tr>\n",
              "      <th>1</th>\n",
              "      <td>1</td>\n",
              "      <td>1</td>\n",
              "      <td>1</td>\n",
              "      <td>1</td>\n",
              "      <td>1</td>\n",
              "      <td>1</td>\n",
              "      <td>30</td>\n",
              "      <td>5</td>\n",
              "      <td>4</td>\n",
              "      <td>0</td>\n",
              "      <td>0</td>\n",
              "      <td>60</td>\n",
              "      <td>0</td>\n",
              "    </tr>\n",
              "    <tr>\n",
              "      <th>2</th>\n",
              "      <td>0</td>\n",
              "      <td>2</td>\n",
              "      <td>1</td>\n",
              "      <td>1</td>\n",
              "      <td>0</td>\n",
              "      <td>1</td>\n",
              "      <td>34</td>\n",
              "      <td>3</td>\n",
              "      <td>7</td>\n",
              "      <td>0</td>\n",
              "      <td>0</td>\n",
              "      <td>50</td>\n",
              "      <td>0</td>\n",
              "    </tr>\n",
              "    <tr>\n",
              "      <th>3</th>\n",
              "      <td>0</td>\n",
              "      <td>3</td>\n",
              "      <td>1</td>\n",
              "      <td>1</td>\n",
              "      <td>1</td>\n",
              "      <td>2</td>\n",
              "      <td>39</td>\n",
              "      <td>1</td>\n",
              "      <td>10</td>\n",
              "      <td>0</td>\n",
              "      <td>0</td>\n",
              "      <td>50</td>\n",
              "      <td>0</td>\n",
              "    </tr>\n",
              "    <tr>\n",
              "      <th>4</th>\n",
              "      <td>2</td>\n",
              "      <td>4</td>\n",
              "      <td>1</td>\n",
              "      <td>1</td>\n",
              "      <td>1</td>\n",
              "      <td>1</td>\n",
              "      <td>45</td>\n",
              "      <td>3</td>\n",
              "      <td>2</td>\n",
              "      <td>0</td>\n",
              "      <td>0</td>\n",
              "      <td>73</td>\n",
              "      <td>0</td>\n",
              "    </tr>\n",
              "    <tr>\n",
              "      <th>...</th>\n",
              "      <td>...</td>\n",
              "      <td>...</td>\n",
              "      <td>...</td>\n",
              "      <td>...</td>\n",
              "      <td>...</td>\n",
              "      <td>...</td>\n",
              "      <td>...</td>\n",
              "      <td>...</td>\n",
              "      <td>...</td>\n",
              "      <td>...</td>\n",
              "      <td>...</td>\n",
              "      <td>...</td>\n",
              "      <td>...</td>\n",
              "    </tr>\n",
              "    <tr>\n",
              "      <th>54803</th>\n",
              "      <td>0</td>\n",
              "      <td>5</td>\n",
              "      <td>2</td>\n",
              "      <td>0</td>\n",
              "      <td>0</td>\n",
              "      <td>1</td>\n",
              "      <td>35</td>\n",
              "      <td>3</td>\n",
              "      <td>7</td>\n",
              "      <td>0</td>\n",
              "      <td>0</td>\n",
              "      <td>53</td>\n",
              "      <td>0</td>\n",
              "    </tr>\n",
              "    <tr>\n",
              "      <th>54804</th>\n",
              "      <td>3</td>\n",
              "      <td>5</td>\n",
              "      <td>2</td>\n",
              "      <td>1</td>\n",
              "      <td>0</td>\n",
              "      <td>1</td>\n",
              "      <td>32</td>\n",
              "      <td>3</td>\n",
              "      <td>4</td>\n",
              "      <td>0</td>\n",
              "      <td>0</td>\n",
              "      <td>86</td>\n",
              "      <td>0</td>\n",
              "    </tr>\n",
              "    <tr>\n",
              "      <th>54805</th>\n",
              "      <td>7</td>\n",
              "      <td>5</td>\n",
              "      <td>1</td>\n",
              "      <td>0</td>\n",
              "      <td>1</td>\n",
              "      <td>1</td>\n",
              "      <td>28</td>\n",
              "      <td>3</td>\n",
              "      <td>2</td>\n",
              "      <td>0</td>\n",
              "      <td>0</td>\n",
              "      <td>53</td>\n",
              "      <td>0</td>\n",
              "    </tr>\n",
              "    <tr>\n",
              "      <th>54806</th>\n",
              "      <td>0</td>\n",
              "      <td>11</td>\n",
              "      <td>1</td>\n",
              "      <td>1</td>\n",
              "      <td>1</td>\n",
              "      <td>1</td>\n",
              "      <td>28</td>\n",
              "      <td>4</td>\n",
              "      <td>3</td>\n",
              "      <td>0</td>\n",
              "      <td>0</td>\n",
              "      <td>47</td>\n",
              "      <td>0</td>\n",
              "    </tr>\n",
              "    <tr>\n",
              "      <th>54807</th>\n",
              "      <td>0</td>\n",
              "      <td>32</td>\n",
              "      <td>1</td>\n",
              "      <td>1</td>\n",
              "      <td>0</td>\n",
              "      <td>1</td>\n",
              "      <td>29</td>\n",
              "      <td>1</td>\n",
              "      <td>2</td>\n",
              "      <td>0</td>\n",
              "      <td>0</td>\n",
              "      <td>45</td>\n",
              "      <td>0</td>\n",
              "    </tr>\n",
              "  </tbody>\n",
              "</table>\n",
              "<p>54808 rows × 13 columns</p>\n",
              "</div>"
            ],
            "text/plain": [
              "       department  region  education  gender  recruitment_channel  \\\n",
              "0               0       0          3       0                    0   \n",
              "1               1       1          1       1                    1   \n",
              "2               0       2          1       1                    0   \n",
              "3               0       3          1       1                    1   \n",
              "4               2       4          1       1                    1   \n",
              "...           ...     ...        ...     ...                  ...   \n",
              "54803           0       5          2       0                    0   \n",
              "54804           3       5          2       1                    0   \n",
              "54805           7       5          1       0                    1   \n",
              "54806           0      11          1       1                    1   \n",
              "54807           0      32          1       1                    0   \n",
              "\n",
              "       no_of_trainings  age  previous_year_rating  length_of_service  \\\n",
              "0                    1   35                     5                  8   \n",
              "1                    1   30                     5                  4   \n",
              "2                    1   34                     3                  7   \n",
              "3                    2   39                     1                 10   \n",
              "4                    1   45                     3                  2   \n",
              "...                ...  ...                   ...                ...   \n",
              "54803                1   35                     3                  7   \n",
              "54804                1   32                     3                  4   \n",
              "54805                1   28                     3                  2   \n",
              "54806                1   28                     4                  3   \n",
              "54807                1   29                     1                  2   \n",
              "\n",
              "       KPIs_met >80%  awards_won?  avg_training_score  is_promoted  \n",
              "0                  1            0                  49            0  \n",
              "1                  0            0                  60            0  \n",
              "2                  0            0                  50            0  \n",
              "3                  0            0                  50            0  \n",
              "4                  0            0                  73            0  \n",
              "...              ...          ...                 ...          ...  \n",
              "54803              0            0                  53            0  \n",
              "54804              0            0                  86            0  \n",
              "54805              0            0                  53            0  \n",
              "54806              0            0                  47            0  \n",
              "54807              0            0                  45            0  \n",
              "\n",
              "[54808 rows x 13 columns]"
            ]
          },
          "execution_count": 8,
          "metadata": {},
          "output_type": "execute_result"
        }
      ],
      "source": [
        "hr.drop(hr.columns[[0]], axis=1)"
      ]
    },
    {
      "cell_type": "markdown",
      "metadata": {
        "id": "R_lBzIi6_Pfc"
      },
      "source": [
        "# Exploratory Data Analysis"
      ]
    },
    {
      "cell_type": "code",
      "execution_count": null,
      "metadata": {
        "id": "aJ7BA3Rd_Pfg",
        "outputId": "8059a75f-aa28-4342-c6a7-d00d307bc844"
      },
      "outputs": [
        {
          "data": {
            "image/png": "[encoded data removed]",
            "text/plain": [
              "<Figure size 720x216 with 2 Axes>"
            ]
          },
          "metadata": {
            "needs_background": "light"
          },
          "output_type": "display_data"
        }
      ],
      "source": [
        "# cchart for distribution of target variable\n",
        "fig= plt.figure(figsize=(10,3) )\n",
        "fig.add_subplot(1,2,1)\n",
        "a= hr[\"is_promoted\"].value_counts(normalize=True).plot.pie()\n",
        "fig.add_subplot(1,2,2)\n",
        "churnchart=sns.countplot(x=hr[\"is_promoted\"])\n",
        "plt.tight_layout()\n",
        "plt.show()"
      ]
    },
    {
      "cell_type": "code",
      "execution_count": null,
      "metadata": {
        "id": "MGXG6hLa_Pfh",
        "outputId": "1e11ab4b-e49b-4d67-b7e4-d593bbc2fad8"
      },
      "outputs": [
        {
          "data": {
            "image/png": "[encoded data removed]",
            "text/plain": [
              "<Figure size 720x360 with 3 Axes>"
            ]
          },
          "metadata": {
            "needs_background": "light"
          },
          "output_type": "display_data"
        }
      ],
      "source": [
        "# Visualize relationship between promoted and other features\n",
        "fig= plt.figure(figsize=(10,5) )\n",
        "fig.add_subplot(1,3,1)\n",
        "ar_6=sns.boxplot(x=hr[\"is_promoted\"],y=hr[\"length_of_service\"])\n",
        "fig.add_subplot(1,3,2)\n",
        "ar_6=sns.boxplot(x=hr[\"is_promoted\"],y=hr[\"avg_training_score\"])\n",
        "fig.add_subplot(1,3,3)\n",
        "ar_6=sns.boxplot(x=hr[\"is_promoted\"],y=hr[\"previous_year_rating\"])\n",
        "plt.tight_layout()\n",
        "plt.show()"
      ]
    },
    {
      "cell_type": "code",
      "execution_count": null,
      "metadata": {
        "id": "oW7sYWFv_Pfi",
        "outputId": "9ae5cfec-a0c9-42c8-8236-8bbffe86304f"
      },
      "outputs": [
        {
          "data": {
            "image/png": "[encoded data removed]",
            "text/plain": [
              "<Figure size 1440x720 with 2 Axes>"
            ]
          },
          "metadata": {
            "needs_background": "light"
          },
          "output_type": "display_data"
        }
      ],
      "source": [
        "#correlation between features\n",
        "plt.figure(figsize = (20,10))\n",
        "corr_plot = sns.heatmap(hr.corr(),annot = True,linewidths=3 )\n",
        "plt.title(\"Correlation plot\")\n",
        "plt.show()"
      ]
    },
    {
      "cell_type": "markdown",
      "metadata": {
        "id": "Ftk30Sxv_Pfj"
      },
      "source": [
        "# Logistic Regression"
      ]
    },
    {
      "cell_type": "code",
      "execution_count": null,
      "metadata": {
        "id": "iOOm1uel_Pfk",
        "outputId": "a38e6c6c-9282-478c-e0bb-b31452150259"
      },
      "outputs": [
        {
          "name": "stdout",
          "output_type": "stream",
          "text": [
            "train size X :  (43846, 13)\n",
            "train size y :  (43846,)\n",
            "test size X :  (10962, 13)\n",
            "test size y :  (10962,)\n"
          ]
        }
      ],
      "source": [
        "    ##Train-Test Split\n",
        "    from sklearn.model_selection import train_test_split\n",
        "#split data into dependent variables(X) and independent variable(y) that we would predict\n",
        "y = hr.pop(\"is_promoted\")\n",
        "X = hr\n",
        "#Let’s split X and y using Train test split\n",
        "X_train,X_test,y_train,y_test = train_test_split(X,y,random_state=50,train_size=0.8)\n",
        "#get shape of train and test data\n",
        "print(\"train size X : \",X_train.shape)\n",
        "print(\"train size y : \",y_train.shape)\n",
        "print(\"test size X : \",X_test.shape)\n",
        "print(\"test size y : \",y_test.shape)"
      ]
    },
    {
      "cell_type": "code",
      "execution_count": null,
      "metadata": {
        "id": "vBZYYFa3_Pfl"
      },
      "outputs": [],
      "source": [
        " #Feature Scaling/Normalization\n",
        "    #Feature scaling\n",
        "from sklearn.preprocessing import StandardScaler\n",
        "scale=StandardScaler()\n",
        "X_train = scale.fit_transform(X_train)\n",
        "X_test = scale.transform(X_test)"
      ]
    },
    {
      "cell_type": "code",
      "execution_count": null,
      "metadata": {
        "id": "pSjGNcDK_Pfm",
        "outputId": "38736502-54b1-41ec-94a1-367cce5fcf19"
      },
      "outputs": [
        {
          "data": {
            "text/plain": [
              "0    0.914359\n",
              "1    0.085641\n",
              "Name: is_promoted, dtype: float64"
            ]
          },
          "execution_count": 14,
          "metadata": {},
          "output_type": "execute_result"
        }
      ],
      "source": [
        "#check for distribution of labels     [The dataset is imbalanced]\n",
        "y_train.value_counts(normalize=True)"
      ]
    },
    {
      "cell_type": "code",
      "execution_count": null,
      "metadata": {
        "id": "3FBFPaHH_Pfn",
        "outputId": "5372518f-553a-4568-e003-4780bc287b51"
      },
      "outputs": [
        {
          "data": {
            "text/plain": [
              "LogisticRegression(class_weight={0: 0.1, 1: 0.9})"
            ]
          },
          "execution_count": 15,
          "metadata": {},
          "output_type": "execute_result"
        }
      ],
      "source": [
        "#import library\n",
        "from sklearn.linear_model import LogisticRegression\n",
        "#make instance of model with default parameters except class weight\n",
        "#as we will add class weights due to class imbalance problem\n",
        "lr_basemodel =LogisticRegression(class_weight={0:0.1,1:0.9})\n",
        "# train model to learn relationships between input and output variables\n",
        "lr_basemodel.fit(X_train,y_train)"
      ]
    },
    {
      "cell_type": "code",
      "execution_count": null,
      "metadata": {
        "id": "IgHkcIHk_Pfo",
        "outputId": "f0e428ed-942b-4efb-c96d-c26337ae0b81"
      },
      "outputs": [
        {
          "data": {
            "text/plain": [
              "LogisticRegression(C=20, class_weight={0: 0.27, 1: 0.73})"
            ]
          },
          "execution_count": 16,
          "metadata": {},
          "output_type": "execute_result"
        }
      ],
      "source": [
        "#Building Model again with best params\n",
        "lr2=LogisticRegression(class_weight={0:0.27,1:0.73},C=20,penalty=\"l2\")\n",
        "lr2.fit(X_train,y_train)"
      ]
    },
    {
      "cell_type": "code",
      "execution_count": null,
      "metadata": {
        "scrolled": true,
        "id": "PHFc0fre_Pfo",
        "outputId": "7fff5ac0-67e3-4b29-9e57-5136b128f969"
      },
      "outputs": [
        {
          "name": "stdout",
          "output_type": "stream",
          "text": [
            "confusion Matrix is : [[9570  479]\n",
            " [ 667  246]]\n",
            "n\n",
            "ROC-AUC score  test dataset:   0.8171379735462716\n",
            "precision score  test dataset:   0.3393103448275862\n",
            "Recall score  test dataset:   0.26944140197152244\n",
            "f1 score  test dataset :   0.3003663003663004\n"
          ]
        }
      ],
      "source": [
        "# predict probabilities on Test and take probability for class 1([:1])\n",
        "y_pred_prob_test = lr2.predict_proba(X_test)[:, 1]\n",
        "#predict labels on test dataset\n",
        "y_pred_test = lr2.predict(X_test)\n",
        "from sklearn.metrics import confusion_matrix\n",
        "# create onfusion matrix\n",
        "cm = confusion_matrix(y_test, y_pred_test)\n",
        "print(\"confusion Matrix is :\",cm)\n",
        "print(\"n\")\n",
        "# ROC- AUC score\n",
        "from sklearn.metrics import roc_auc_score\n",
        "print(\"ROC-AUC score  test dataset:  \", roc_auc_score(y_test,y_pred_prob_test))\n",
        "#Precision score\n",
        "from sklearn.metrics import precision_score\n",
        "print(\"precision score  test dataset:  \", precision_score(y_test,y_pred_test))\n",
        "#Recall Score\n",
        "from sklearn.metrics import recall_score\n",
        "print(\"Recall score  test dataset:  \", recall_score(y_test,y_pred_test))\n",
        "#f1 score\n",
        "from sklearn.metrics import f1_score\n",
        "print(\"f1 score  test dataset :  \", f1_score(y_test,y_pred_test))"
      ]
    },
    {
      "cell_type": "code",
      "execution_count": null,
      "metadata": {
        "id": "I8MFGIt__Pfp",
        "outputId": "efb903e4-6e68-4ed5-b3ac-d3bb3b96e029"
      },
      "outputs": [
        {
          "data": {
            "text/plain": [
              "0.8954570333880679"
            ]
          },
          "execution_count": 18,
          "metadata": {},
          "output_type": "execute_result"
        }
      ],
      "source": [
        "from sklearn.metrics import accuracy_score\n",
        "accuracy_score(y_test,y_pred_test)"
      ]
    },
    {
      "cell_type": "code",
      "execution_count": null,
      "metadata": {
        "id": "DiWIbIxp_Pfp",
        "outputId": "c4b7d9f9-7887-47cd-ceec-2646d62a5f44"
      },
      "outputs": [
        {
          "name": "stdout",
          "output_type": "stream",
          "text": [
            "              precision    recall  f1-score   support\n",
            "\n",
            "           0       0.93      0.95      0.94     10049\n",
            "           1       0.34      0.27      0.30       913\n",
            "\n",
            "    accuracy                           0.90     10962\n",
            "   macro avg       0.64      0.61      0.62     10962\n",
            "weighted avg       0.89      0.90      0.89     10962\n",
            "\n"
          ]
        }
      ],
      "source": [
        "from sklearn.metrics import classification_report\n",
        "print(classification_report(y_test, y_pred_test))"
      ]
    },
    {
      "cell_type": "code",
      "execution_count": null,
      "metadata": {
        "id": "owwr7Icl_Pfq",
        "outputId": "83f89de3-bdde-4a7d-df13-d1f57f437c25"
      },
      "outputs": [
        {
          "name": "stdout",
          "output_type": "stream",
          "text": [
            "0.26944140197152244\n",
            "0.9523335655289084\n"
          ]
        }
      ],
      "source": [
        "# Assigning the values from our matrix\n",
        "TP = cm[1,1] # true positive\n",
        "TN = cm[0,0] # true negatives\n",
        "FP = cm[0,1] # false positives\n",
        "FN = cm[1,0] # false negatives\n",
        "\n",
        "# Let's see the sensitivity of our logistic regression model\n",
        "print(TP / float(TP+FN))\n",
        "\n",
        "# Let us calculate specificity\n",
        "print(TN / float(TN+FP))"
      ]
    },
    {
      "cell_type": "code",
      "execution_count": null,
      "metadata": {
        "id": "zVlAmrw4_Pfq",
        "outputId": "04c828ff-048d-4ad7-e827-371589eed197"
      },
      "outputs": [
        {
          "name": "stdout",
          "output_type": "stream",
          "text": [
            "Feature: 0, Score: 0.00475\n",
            "Feature: 1, Score: -0.32041\n",
            "Feature: 2, Score: -0.15180\n",
            "Feature: 3, Score: 0.12479\n",
            "Feature: 4, Score: -0.00128\n",
            "Feature: 5, Score: -0.02027\n",
            "Feature: 6, Score: -0.13481\n",
            "Feature: 7, Score: -0.19772\n",
            "Feature: 8, Score: 0.38828\n",
            "Feature: 9, Score: 0.10620\n",
            "Feature: 10, Score: 0.66533\n",
            "Feature: 11, Score: 0.29065\n",
            "Feature: 12, Score: 0.64790\n"
          ]
        },
        {
          "data": {
            "image/png": "[encoded data removed]",
            "text/plain": [
              "<Figure size 432x288 with 1 Axes>"
            ]
          },
          "metadata": {
            "needs_background": "light"
          },
          "output_type": "display_data"
        }
      ],
      "source": [
        "from matplotlib import pyplot\n",
        "importance = lr2.coef_[0]\n",
        "# summarize feature importance\n",
        "for i,v in enumerate(importance):\n",
        "    print('Feature: %0d, Score: %.5f' % (i,v))\n",
        "# plot feature importance\n",
        "pyplot.bar([x for x in range(len(importance))], importance)\n",
        "pyplot.show()"
      ]
    },
    {
      "cell_type": "code",
      "execution_count": null,
      "metadata": {
        "scrolled": true,
        "id": "3OCRvnC8_Pfr",
        "outputId": "97582f23-39cb-463e-dcf5-74f45006adae"
      },
      "outputs": [
        {
          "data": {
            "text/plain": [
              "array([0, 0, 0, ..., 0, 0, 0], dtype=int64)"
            ]
          },
          "execution_count": 21,
          "metadata": {},
          "output_type": "execute_result"
        }
      ],
      "source": [
        "lr2.predict(X_test)"
      ]
    },
    {
      "cell_type": "code",
      "execution_count": null,
      "metadata": {
        "id": "tNu9yysI_Pfr"
      },
      "outputs": [],
      "source": [
        "df = pd.read_csv(\"E:\\\\Integrated Program of Business Analytics (IPBA8)- Business Analytics\\\\CAPSTONE project\\\\IPBA _Batch 8_GROUP L - HR Analtyics - Final Project from JA\\\\pedict_num.csv\")"
      ]
    },
    {
      "cell_type": "code",
      "execution_count": null,
      "metadata": {
        "id": "qC8oI_3C_Pfs",
        "outputId": "f4d5e6ed-cdba-4c3e-d454-a3e239102459"
      },
      "outputs": [
        {
          "name": "stdout",
          "output_type": "stream",
          "text": [
            "      employee_id  department  area  education  sex  channel  #training  age  \\\n",
            "0           51409           0     0          3    0        0          1   33   \n",
            "1           80252           1     1          1    0        0          2   27   \n",
            "2           63201           2     2          1    1        0          1   30   \n",
            "3           51028           3     3          1    1        1          1   35   \n",
            "4           53846           3     3          1    0        0          1   46   \n",
            "...           ...         ...   ...        ...  ...      ...        ...  ...   \n",
            "1301        85676           3     2          1    0        0          2   27   \n",
            "1302        39633           1     3          1    0        1          1   47   \n",
            "1303        22865           0    14          3    0        0          1   40   \n",
            "1304        19611           4    21          3    1        1          1   35   \n",
            "1305        45879           1     3          1    0        1          2   38   \n",
            "\n",
            "      ratings  longevity  performance  successful  score  \n",
            "0           3          8            0           0     79  \n",
            "1           3          4            0           0     68  \n",
            "2           3          6            1           0     50  \n",
            "3           3          3            0           0     48  \n",
            "4           2         15            0           0     46  \n",
            "...       ...        ...          ...         ...    ...  \n",
            "1301        3          3            1           0     47  \n",
            "1302        3          6            0           0     71  \n",
            "1303        3          6            0           0     80  \n",
            "1304        3          9            1           0     58  \n",
            "1305        3          7            1           0     72  \n",
            "\n",
            "[1306 rows x 13 columns]\n"
          ]
        }
      ],
      "source": [
        "print(df)"
      ]
    },
    {
      "cell_type": "code",
      "execution_count": null,
      "metadata": {
        "id": "cnryFBTO_Pfs",
        "outputId": "865c89f5-e77f-496b-f96f-ec8e94875ed5"
      },
      "outputs": [
        {
          "data": {
            "text/plain": [
              "Index(['employee_id', 'department', 'area', 'education', 'sex', 'channel',\n",
              "       '#training', 'age', 'ratings', 'longevity', 'performance', 'successful',\n",
              "       'score'],\n",
              "      dtype='object')"
            ]
          },
          "execution_count": 24,
          "metadata": {},
          "output_type": "execute_result"
        }
      ],
      "source": [
        "df.columns"
      ]
    },
    {
      "cell_type": "code",
      "execution_count": null,
      "metadata": {
        "scrolled": true,
        "id": "hI9zLLLV_Pft",
        "outputId": "5d78dfb0-7f59-4569-fdec-803a5898175b"
      },
      "outputs": [
        {
          "data": {
            "text/plain": [
              "array([1, 1, 1, ..., 1, 1, 1], dtype=int64)"
            ]
          },
          "execution_count": 25,
          "metadata": {},
          "output_type": "execute_result"
        }
      ],
      "source": [
        "col_added = lr2.predict(df)\n",
        "col_added"
      ]
    },
    {
      "cell_type": "code",
      "execution_count": null,
      "metadata": {
        "id": "-wNKWPCl_Pft",
        "outputId": "b6d1ca24-a98a-4cdb-ff98-683b34869bdd"
      },
      "outputs": [
        {
          "data": {
            "text/html": [
              "<div>\n",
              "<style scoped>\n",
              "    .dataframe tbody tr th:only-of-type {\n",
              "        vertical-align: middle;\n",
              "    }\n",
              "\n",
              "    .dataframe tbody tr th {\n",
              "        vertical-align: top;\n",
              "    }\n",
              "\n",
              "    .dataframe thead th {\n",
              "        text-align: right;\n",
              "    }\n",
              "</style>\n",
              "<table border=\"1\" class=\"dataframe\">\n",
              "  <thead>\n",
              "    <tr style=\"text-align: right;\">\n",
              "      <th></th>\n",
              "      <th>0</th>\n",
              "    </tr>\n",
              "  </thead>\n",
              "  <tbody>\n",
              "    <tr>\n",
              "      <th>0</th>\n",
              "      <td>1</td>\n",
              "    </tr>\n",
              "    <tr>\n",
              "      <th>1</th>\n",
              "      <td>1</td>\n",
              "    </tr>\n",
              "    <tr>\n",
              "      <th>2</th>\n",
              "      <td>1</td>\n",
              "    </tr>\n",
              "    <tr>\n",
              "      <th>3</th>\n",
              "      <td>1</td>\n",
              "    </tr>\n",
              "    <tr>\n",
              "      <th>4</th>\n",
              "      <td>1</td>\n",
              "    </tr>\n",
              "    <tr>\n",
              "      <th>...</th>\n",
              "      <td>...</td>\n",
              "    </tr>\n",
              "    <tr>\n",
              "      <th>1301</th>\n",
              "      <td>1</td>\n",
              "    </tr>\n",
              "    <tr>\n",
              "      <th>1302</th>\n",
              "      <td>1</td>\n",
              "    </tr>\n",
              "    <tr>\n",
              "      <th>1303</th>\n",
              "      <td>1</td>\n",
              "    </tr>\n",
              "    <tr>\n",
              "      <th>1304</th>\n",
              "      <td>1</td>\n",
              "    </tr>\n",
              "    <tr>\n",
              "      <th>1305</th>\n",
              "      <td>1</td>\n",
              "    </tr>\n",
              "  </tbody>\n",
              "</table>\n",
              "<p>1306 rows × 1 columns</p>\n",
              "</div>"
            ],
            "text/plain": [
              "      0\n",
              "0     1\n",
              "1     1\n",
              "2     1\n",
              "3     1\n",
              "4     1\n",
              "...  ..\n",
              "1301  1\n",
              "1302  1\n",
              "1303  1\n",
              "1304  1\n",
              "1305  1\n",
              "\n",
              "[1306 rows x 1 columns]"
            ]
          },
          "execution_count": 26,
          "metadata": {},
          "output_type": "execute_result"
        }
      ],
      "source": [
        "df2 = pd.DataFrame(col_added)\n",
        "df2"
      ]
    },
    {
      "cell_type": "code",
      "execution_count": null,
      "metadata": {
        "id": "jRbWFklv_Pft",
        "outputId": "dcefbad3-0209-45c2-d6dc-e1c45e7fb2cd"
      },
      "outputs": [
        {
          "data": {
            "text/html": [
              "<div>\n",
              "<style scoped>\n",
              "    .dataframe tbody tr th:only-of-type {\n",
              "        vertical-align: middle;\n",
              "    }\n",
              "\n",
              "    .dataframe tbody tr th {\n",
              "        vertical-align: top;\n",
              "    }\n",
              "\n",
              "    .dataframe thead th {\n",
              "        text-align: right;\n",
              "    }\n",
              "</style>\n",
              "<table border=\"1\" class=\"dataframe\">\n",
              "  <thead>\n",
              "    <tr style=\"text-align: right;\">\n",
              "      <th></th>\n",
              "      <th>employee_id</th>\n",
              "      <th>department</th>\n",
              "      <th>area</th>\n",
              "      <th>education</th>\n",
              "      <th>sex</th>\n",
              "      <th>channel</th>\n",
              "      <th>#training</th>\n",
              "      <th>age</th>\n",
              "      <th>ratings</th>\n",
              "      <th>longevity</th>\n",
              "      <th>performance</th>\n",
              "      <th>successful</th>\n",
              "      <th>score</th>\n",
              "    </tr>\n",
              "  </thead>\n",
              "  <tbody>\n",
              "    <tr>\n",
              "      <th>0</th>\n",
              "      <td>51409</td>\n",
              "      <td>0</td>\n",
              "      <td>0</td>\n",
              "      <td>3</td>\n",
              "      <td>0</td>\n",
              "      <td>0</td>\n",
              "      <td>1</td>\n",
              "      <td>33</td>\n",
              "      <td>3</td>\n",
              "      <td>8</td>\n",
              "      <td>0</td>\n",
              "      <td>0</td>\n",
              "      <td>79</td>\n",
              "    </tr>\n",
              "    <tr>\n",
              "      <th>1</th>\n",
              "      <td>80252</td>\n",
              "      <td>1</td>\n",
              "      <td>1</td>\n",
              "      <td>1</td>\n",
              "      <td>0</td>\n",
              "      <td>0</td>\n",
              "      <td>2</td>\n",
              "      <td>27</td>\n",
              "      <td>3</td>\n",
              "      <td>4</td>\n",
              "      <td>0</td>\n",
              "      <td>0</td>\n",
              "      <td>68</td>\n",
              "    </tr>\n",
              "    <tr>\n",
              "      <th>2</th>\n",
              "      <td>63201</td>\n",
              "      <td>2</td>\n",
              "      <td>2</td>\n",
              "      <td>1</td>\n",
              "      <td>1</td>\n",
              "      <td>0</td>\n",
              "      <td>1</td>\n",
              "      <td>30</td>\n",
              "      <td>3</td>\n",
              "      <td>6</td>\n",
              "      <td>1</td>\n",
              "      <td>0</td>\n",
              "      <td>50</td>\n",
              "    </tr>\n",
              "    <tr>\n",
              "      <th>3</th>\n",
              "      <td>51028</td>\n",
              "      <td>3</td>\n",
              "      <td>3</td>\n",
              "      <td>1</td>\n",
              "      <td>1</td>\n",
              "      <td>1</td>\n",
              "      <td>1</td>\n",
              "      <td>35</td>\n",
              "      <td>3</td>\n",
              "      <td>3</td>\n",
              "      <td>0</td>\n",
              "      <td>0</td>\n",
              "      <td>48</td>\n",
              "    </tr>\n",
              "    <tr>\n",
              "      <th>4</th>\n",
              "      <td>53846</td>\n",
              "      <td>3</td>\n",
              "      <td>3</td>\n",
              "      <td>1</td>\n",
              "      <td>0</td>\n",
              "      <td>0</td>\n",
              "      <td>1</td>\n",
              "      <td>46</td>\n",
              "      <td>2</td>\n",
              "      <td>15</td>\n",
              "      <td>0</td>\n",
              "      <td>0</td>\n",
              "      <td>46</td>\n",
              "    </tr>\n",
              "    <tr>\n",
              "      <th>...</th>\n",
              "      <td>...</td>\n",
              "      <td>...</td>\n",
              "      <td>...</td>\n",
              "      <td>...</td>\n",
              "      <td>...</td>\n",
              "      <td>...</td>\n",
              "      <td>...</td>\n",
              "      <td>...</td>\n",
              "      <td>...</td>\n",
              "      <td>...</td>\n",
              "      <td>...</td>\n",
              "      <td>...</td>\n",
              "      <td>...</td>\n",
              "    </tr>\n",
              "    <tr>\n",
              "      <th>1301</th>\n",
              "      <td>85676</td>\n",
              "      <td>3</td>\n",
              "      <td>2</td>\n",
              "      <td>1</td>\n",
              "      <td>0</td>\n",
              "      <td>0</td>\n",
              "      <td>2</td>\n",
              "      <td>27</td>\n",
              "      <td>3</td>\n",
              "      <td>3</td>\n",
              "      <td>1</td>\n",
              "      <td>0</td>\n",
              "      <td>47</td>\n",
              "    </tr>\n",
              "    <tr>\n",
              "      <th>1302</th>\n",
              "      <td>39633</td>\n",
              "      <td>1</td>\n",
              "      <td>3</td>\n",
              "      <td>1</td>\n",
              "      <td>0</td>\n",
              "      <td>1</td>\n",
              "      <td>1</td>\n",
              "      <td>47</td>\n",
              "      <td>3</td>\n",
              "      <td>6</td>\n",
              "      <td>0</td>\n",
              "      <td>0</td>\n",
              "      <td>71</td>\n",
              "    </tr>\n",
              "    <tr>\n",
              "      <th>1303</th>\n",
              "      <td>22865</td>\n",
              "      <td>0</td>\n",
              "      <td>14</td>\n",
              "      <td>3</td>\n",
              "      <td>0</td>\n",
              "      <td>0</td>\n",
              "      <td>1</td>\n",
              "      <td>40</td>\n",
              "      <td>3</td>\n",
              "      <td>6</td>\n",
              "      <td>0</td>\n",
              "      <td>0</td>\n",
              "      <td>80</td>\n",
              "    </tr>\n",
              "    <tr>\n",
              "      <th>1304</th>\n",
              "      <td>19611</td>\n",
              "      <td>4</td>\n",
              "      <td>21</td>\n",
              "      <td>3</td>\n",
              "      <td>1</td>\n",
              "      <td>1</td>\n",
              "      <td>1</td>\n",
              "      <td>35</td>\n",
              "      <td>3</td>\n",
              "      <td>9</td>\n",
              "      <td>1</td>\n",
              "      <td>0</td>\n",
              "      <td>58</td>\n",
              "    </tr>\n",
              "    <tr>\n",
              "      <th>1305</th>\n",
              "      <td>45879</td>\n",
              "      <td>1</td>\n",
              "      <td>3</td>\n",
              "      <td>1</td>\n",
              "      <td>0</td>\n",
              "      <td>1</td>\n",
              "      <td>2</td>\n",
              "      <td>38</td>\n",
              "      <td>3</td>\n",
              "      <td>7</td>\n",
              "      <td>1</td>\n",
              "      <td>0</td>\n",
              "      <td>72</td>\n",
              "    </tr>\n",
              "  </tbody>\n",
              "</table>\n",
              "<p>1306 rows × 13 columns</p>\n",
              "</div>"
            ],
            "text/plain": [
              "      employee_id  department  area  education  sex  channel  #training  age  \\\n",
              "0           51409           0     0          3    0        0          1   33   \n",
              "1           80252           1     1          1    0        0          2   27   \n",
              "2           63201           2     2          1    1        0          1   30   \n",
              "3           51028           3     3          1    1        1          1   35   \n",
              "4           53846           3     3          1    0        0          1   46   \n",
              "...           ...         ...   ...        ...  ...      ...        ...  ...   \n",
              "1301        85676           3     2          1    0        0          2   27   \n",
              "1302        39633           1     3          1    0        1          1   47   \n",
              "1303        22865           0    14          3    0        0          1   40   \n",
              "1304        19611           4    21          3    1        1          1   35   \n",
              "1305        45879           1     3          1    0        1          2   38   \n",
              "\n",
              "      ratings  longevity  performance  successful  score  \n",
              "0           3          8            0           0     79  \n",
              "1           3          4            0           0     68  \n",
              "2           3          6            1           0     50  \n",
              "3           3          3            0           0     48  \n",
              "4           2         15            0           0     46  \n",
              "...       ...        ...          ...         ...    ...  \n",
              "1301        3          3            1           0     47  \n",
              "1302        3          6            0           0     71  \n",
              "1303        3          6            0           0     80  \n",
              "1304        3          9            1           0     58  \n",
              "1305        3          7            1           0     72  \n",
              "\n",
              "[1306 rows x 13 columns]"
            ]
          },
          "execution_count": 27,
          "metadata": {},
          "output_type": "execute_result"
        }
      ],
      "source": [
        "#df3 = pd.concat([df, df2], axis=1, ignore_index=True)\n",
        "#print(df3)\n",
        "df"
      ]
    },
    {
      "cell_type": "code",
      "execution_count": null,
      "metadata": {
        "id": "sUsSLrSm_Pfu",
        "outputId": "64c31e0c-e51d-4930-ef24-225c075891b2"
      },
      "outputs": [
        {
          "data": {
            "text/plain": [
              "employee_id    0\n",
              "department     0\n",
              "area           0\n",
              "education      0\n",
              "sex            0\n",
              "channel        0\n",
              "#training      0\n",
              "age            0\n",
              "ratings        0\n",
              "longevity      0\n",
              "performance    0\n",
              "successful     0\n",
              "score          0\n",
              "dtype: int64"
            ]
          },
          "execution_count": 28,
          "metadata": {},
          "output_type": "execute_result"
        }
      ],
      "source": [
        "df.isnull().sum()"
      ]
    },
    {
      "cell_type": "code",
      "execution_count": null,
      "metadata": {
        "id": "9NDf6B-1_Pfu"
      },
      "outputs": [],
      "source": [
        "#df.to_csv(r\"E:\\\\Integrated Program of Business Analytics (IPBA8)- Business Analytics\\\\CAPSTONE project\\\\IPBA _Batch 8_GROUP L - HR Analtyics - Final Project from JA\\\\Predict_logisticRegression.csv\", index=False )"
      ]
    },
    {
      "cell_type": "markdown",
      "metadata": {
        "id": "mu5JVQY9_Pfv"
      },
      "source": [
        "# --------------------------------------------------------------------------------------------------------------"
      ]
    },
    {
      "cell_type": "markdown",
      "metadata": {
        "id": "os5994Lp_Pfv"
      },
      "source": [
        "# Decision Tree"
      ]
    },
    {
      "cell_type": "code",
      "execution_count": null,
      "metadata": {
        "id": "DCLOA0it_Pfv"
      },
      "outputs": [],
      "source": [
        "hr_data=pd.read_csv(\"E:\\\\Integrated Program of Business Analytics (IPBA8)- Business Analytics\\\\CAPSTONE project\\\\IPBA _Batch 8_GROUP L - HR Analtyics - Final Project from JA\\\\final_hr_df.csv\",sep=\",\")"
      ]
    },
    {
      "cell_type": "code",
      "execution_count": null,
      "metadata": {
        "id": "bKo3SrA9_Pfw"
      },
      "outputs": [],
      "source": [
        "from sklearn.model_selection import train_test_split\n",
        "x = hr_data.drop('is_promoted', axis = 1)\n",
        "y = hr_data['is_promoted']\n",
        "x_train, x_test, y_train, y_test = train_test_split(x, y, test_size = 0.3)"
      ]
    },
    {
      "cell_type": "code",
      "execution_count": null,
      "metadata": {
        "id": "k4e-cjcO_Pfw",
        "outputId": "88cacd47-0a3d-4266-9302-a0165fc34fc7"
      },
      "outputs": [
        {
          "data": {
            "text/plain": [
              "((38365, 13), (16443, 13))"
            ]
          },
          "execution_count": 34,
          "metadata": {},
          "output_type": "execute_result"
        }
      ],
      "source": [
        "x_train.shape, x_test.shape"
      ]
    },
    {
      "cell_type": "markdown",
      "metadata": {
        "id": "IWnbzjiq_Pfw"
      },
      "source": [
        "Decision Tree Classifier with criterion gini index"
      ]
    },
    {
      "cell_type": "code",
      "execution_count": null,
      "metadata": {
        "id": "24zDad6d_Pfy",
        "outputId": "9739f1dc-d190-4c26-a8f6-6d44fc1ecb1b"
      },
      "outputs": [
        {
          "data": {
            "text/plain": [
              "DecisionTreeClassifier(max_depth=3, random_state=0)"
            ]
          },
          "execution_count": 35,
          "metadata": {},
          "output_type": "execute_result"
        }
      ],
      "source": [
        "from sklearn.tree import DecisionTreeClassifier\n",
        "clf_gini = DecisionTreeClassifier(criterion='gini', max_depth=3, random_state=0)\n",
        "\n",
        "\n",
        "# fit the model\n",
        "clf_gini.fit(x_train, y_train)"
      ]
    },
    {
      "cell_type": "code",
      "execution_count": null,
      "metadata": {
        "id": "0RR1hmZM_Pfz"
      },
      "outputs": [],
      "source": [
        "y_pred_gini = clf_gini.predict(x_test)"
      ]
    },
    {
      "cell_type": "code",
      "execution_count": null,
      "metadata": {
        "id": "IVKhd7Ci_Pfz",
        "outputId": "8ef063b8-6b99-4565-84f2-19fe575b0331"
      },
      "outputs": [
        {
          "name": "stdout",
          "output_type": "stream",
          "text": [
            "Model accuracy score with criterion gini index: 0.9227\n"
          ]
        }
      ],
      "source": [
        "from sklearn.metrics import accuracy_score\n",
        "\n",
        "print('Model accuracy score with criterion gini index: {0:0.4f}'. format(accuracy_score(y_test, y_pred_gini)))"
      ]
    },
    {
      "cell_type": "code",
      "execution_count": null,
      "metadata": {
        "id": "IHUGLG8k_Pfz"
      },
      "outputs": [],
      "source": [
        "from sklearn.tree import DecisionTreeClassifier\n",
        "model = DecisionTreeClassifier()\n",
        "model.fit(x_train, y_train)\n",
        "predictions = model.predict(x_test)"
      ]
    },
    {
      "cell_type": "code",
      "execution_count": null,
      "metadata": {
        "id": "_uL6X7fH_Pf0",
        "outputId": "ec33ea15-5b60-4725-b6c7-cfe569b891fa"
      },
      "outputs": [
        {
          "data": {
            "text/plain": [
              "array([0, 0, 0, ..., 0, 0, 0], dtype=int64)"
            ]
          },
          "execution_count": 39,
          "metadata": {},
          "output_type": "execute_result"
        }
      ],
      "source": [
        "y_pred_train_gini = clf_gini.predict(x_train)\n",
        "\n",
        "y_pred_train_gini"
      ]
    },
    {
      "cell_type": "code",
      "execution_count": null,
      "metadata": {
        "id": "QLSFEXnk_Pf0",
        "outputId": "13512dfe-2abd-4d64-e8ad-70710e16ddbb"
      },
      "outputs": [
        {
          "name": "stdout",
          "output_type": "stream",
          "text": [
            "Training-set accuracy score: 0.9230\n"
          ]
        }
      ],
      "source": [
        "print('Training-set accuracy score: {0:0.4f}'. format(accuracy_score(y_train, y_pred_train_gini)))"
      ]
    },
    {
      "cell_type": "code",
      "execution_count": null,
      "metadata": {
        "id": "OuVsSwdE_Pf0",
        "outputId": "f0349935-e631-42b9-be82-880be6b537a3"
      },
      "outputs": [
        {
          "data": {
            "text/html": [
              "<div>\n",
              "<style scoped>\n",
              "    .dataframe tbody tr th:only-of-type {\n",
              "        vertical-align: middle;\n",
              "    }\n",
              "\n",
              "    .dataframe tbody tr th {\n",
              "        vertical-align: top;\n",
              "    }\n",
              "\n",
              "    .dataframe thead th {\n",
              "        text-align: right;\n",
              "    }\n",
              "</style>\n",
              "<table border=\"1\" class=\"dataframe\">\n",
              "  <thead>\n",
              "    <tr style=\"text-align: right;\">\n",
              "      <th></th>\n",
              "      <th>0</th>\n",
              "    </tr>\n",
              "  </thead>\n",
              "  <tbody>\n",
              "    <tr>\n",
              "      <th>0</th>\n",
              "      <td>0</td>\n",
              "    </tr>\n",
              "    <tr>\n",
              "      <th>1</th>\n",
              "      <td>0</td>\n",
              "    </tr>\n",
              "    <tr>\n",
              "      <th>2</th>\n",
              "      <td>0</td>\n",
              "    </tr>\n",
              "    <tr>\n",
              "      <th>3</th>\n",
              "      <td>0</td>\n",
              "    </tr>\n",
              "    <tr>\n",
              "      <th>4</th>\n",
              "      <td>0</td>\n",
              "    </tr>\n",
              "    <tr>\n",
              "      <th>...</th>\n",
              "      <td>...</td>\n",
              "    </tr>\n",
              "    <tr>\n",
              "      <th>1301</th>\n",
              "      <td>0</td>\n",
              "    </tr>\n",
              "    <tr>\n",
              "      <th>1302</th>\n",
              "      <td>0</td>\n",
              "    </tr>\n",
              "    <tr>\n",
              "      <th>1303</th>\n",
              "      <td>0</td>\n",
              "    </tr>\n",
              "    <tr>\n",
              "      <th>1304</th>\n",
              "      <td>0</td>\n",
              "    </tr>\n",
              "    <tr>\n",
              "      <th>1305</th>\n",
              "      <td>0</td>\n",
              "    </tr>\n",
              "  </tbody>\n",
              "</table>\n",
              "<p>1306 rows × 1 columns</p>\n",
              "</div>"
            ],
            "text/plain": [
              "      0\n",
              "0     0\n",
              "1     0\n",
              "2     0\n",
              "3     0\n",
              "4     0\n",
              "...  ..\n",
              "1301  0\n",
              "1302  0\n",
              "1303  0\n",
              "1304  0\n",
              "1305  0\n",
              "\n",
              "[1306 rows x 1 columns]"
            ]
          },
          "execution_count": 41,
          "metadata": {},
          "output_type": "execute_result"
        }
      ],
      "source": [
        "pred_is_promoted = clf_gini.predict(df)\n",
        "pred_is_promoted\n",
        "vx = pd.DataFrame(pred_is_promoted)\n",
        "vx"
      ]
    },
    {
      "cell_type": "code",
      "execution_count": null,
      "metadata": {
        "id": "AoajGbWr_Pf1",
        "outputId": "66a3c15f-08a3-4e66-deee-1fb88a20edd1"
      },
      "outputs": [
        {
          "data": {
            "text/html": [
              "<div>\n",
              "<style scoped>\n",
              "    .dataframe tbody tr th:only-of-type {\n",
              "        vertical-align: middle;\n",
              "    }\n",
              "\n",
              "    .dataframe tbody tr th {\n",
              "        vertical-align: top;\n",
              "    }\n",
              "\n",
              "    .dataframe thead th {\n",
              "        text-align: right;\n",
              "    }\n",
              "</style>\n",
              "<table border=\"1\" class=\"dataframe\">\n",
              "  <thead>\n",
              "    <tr style=\"text-align: right;\">\n",
              "      <th></th>\n",
              "      <th>0</th>\n",
              "    </tr>\n",
              "  </thead>\n",
              "  <tbody>\n",
              "    <tr>\n",
              "      <th>count</th>\n",
              "      <td>1306.000000</td>\n",
              "    </tr>\n",
              "    <tr>\n",
              "      <th>mean</th>\n",
              "      <td>0.010720</td>\n",
              "    </tr>\n",
              "    <tr>\n",
              "      <th>std</th>\n",
              "      <td>0.103019</td>\n",
              "    </tr>\n",
              "    <tr>\n",
              "      <th>min</th>\n",
              "      <td>0.000000</td>\n",
              "    </tr>\n",
              "    <tr>\n",
              "      <th>25%</th>\n",
              "      <td>0.000000</td>\n",
              "    </tr>\n",
              "    <tr>\n",
              "      <th>50%</th>\n",
              "      <td>0.000000</td>\n",
              "    </tr>\n",
              "    <tr>\n",
              "      <th>75%</th>\n",
              "      <td>0.000000</td>\n",
              "    </tr>\n",
              "    <tr>\n",
              "      <th>max</th>\n",
              "      <td>1.000000</td>\n",
              "    </tr>\n",
              "  </tbody>\n",
              "</table>\n",
              "</div>"
            ],
            "text/plain": [
              "                 0\n",
              "count  1306.000000\n",
              "mean      0.010720\n",
              "std       0.103019\n",
              "min       0.000000\n",
              "25%       0.000000\n",
              "50%       0.000000\n",
              "75%       0.000000\n",
              "max       1.000000"
            ]
          },
          "execution_count": 42,
          "metadata": {},
          "output_type": "execute_result"
        }
      ],
      "source": [
        "vx.describe()"
      ]
    },
    {
      "cell_type": "code",
      "execution_count": null,
      "metadata": {
        "id": "EM4Q2D6L_Pf1"
      },
      "outputs": [],
      "source": [
        "vx.to_csv(r\"E:\\\\Integrated Program of Business Analytics (IPBA8)- Business Analytics\\\\CAPSTONE project\\\\IPBA _Batch 8_GROUP L - HR Analtyics - Final Project from JA\\\\Predict_GINI.csv\", index=False )"
      ]
    },
    {
      "cell_type": "markdown",
      "metadata": {
        "id": "Wm_lJ5OM_Pf1"
      },
      "source": [
        "Check for overfitting and underfitting"
      ]
    },
    {
      "cell_type": "code",
      "execution_count": null,
      "metadata": {
        "id": "0S1KmFHR_Pf2",
        "outputId": "0fc748e6-5d9c-4765-f241-74624f7543c5"
      },
      "outputs": [
        {
          "name": "stdout",
          "output_type": "stream",
          "text": [
            "Training set score: 0.9230\n",
            "Test set score: 0.9227\n"
          ]
        }
      ],
      "source": [
        "# print the scores on training and test set\n",
        "\n",
        "print('Training set score: {:.4f}'.format(clf_gini.score(x_train, y_train)))\n",
        "\n",
        "print('Test set score: {:.4f}'.format(clf_gini.score(x_test, y_test)))"
      ]
    },
    {
      "cell_type": "markdown",
      "metadata": {
        "id": "DpnYxped_Pf2"
      },
      "source": [
        "Visualise Decision Tree\n"
      ]
    },
    {
      "cell_type": "code",
      "execution_count": null,
      "metadata": {
        "id": "7A9CitBR_Pf2",
        "outputId": "f66e9c01-1e64-4e4a-993f-cbd0dc50a7b4"
      },
      "outputs": [
        {
          "data": {
            "text/plain": [
              "[Text(362.70000000000005, 380.52, 'X[12] <= 90.5\\ngini = 0.156\\nsamples = 38365\\nvalue = [35101, 3264]'),\n",
              " Text(223.20000000000002, 271.8, 'X[10] <= 0.5\\ngini = 0.141\\nsamples = 37955\\nvalue = [35047, 2908]'),\n",
              " Text(111.60000000000001, 163.07999999999998, 'X[11] <= 0.5\\ngini = 0.068\\nsamples = 24708\\nvalue = [23838, 870]'),\n",
              " Text(55.800000000000004, 54.360000000000014, 'gini = 0.059\\nsamples = 24423\\nvalue = [23685, 738]'),\n",
              " Text(167.4, 54.360000000000014, 'gini = 0.497\\nsamples = 285\\nvalue = [153, 132]'),\n",
              " Text(334.8, 163.07999999999998, 'X[11] <= 0.5\\ngini = 0.26\\nsamples = 13247\\nvalue = [11209, 2038]'),\n",
              " Text(279.0, 54.360000000000014, 'gini = 0.252\\nsamples = 12753\\nvalue = [10864, 1889]'),\n",
              " Text(390.6, 54.360000000000014, 'gini = 0.421\\nsamples = 494\\nvalue = [345, 149]'),\n",
              " Text(502.20000000000005, 271.8, 'X[1] <= 2.5\\ngini = 0.229\\nsamples = 410\\nvalue = [54, 356]'),\n",
              " Text(446.40000000000003, 163.07999999999998, 'gini = 0.0\\nsamples = 231\\nvalue = [0, 231]'),\n",
              " Text(558.0, 163.07999999999998, 'X[1] <= 4.5\\ngini = 0.421\\nsamples = 179\\nvalue = [54, 125]'),\n",
              " Text(502.20000000000005, 54.360000000000014, 'gini = 0.498\\nsamples = 102\\nvalue = [54, 48]'),\n",
              " Text(613.8000000000001, 54.360000000000014, 'gini = 0.0\\nsamples = 77\\nvalue = [0, 77]')]"
            ]
          },
          "execution_count": 45,
          "metadata": {},
          "output_type": "execute_result"
        },
        {
          "data": {
            "image/png": "[encoded data removed]",
            "text/plain": [
              "<Figure size 864x576 with 1 Axes>"
            ]
          },
          "metadata": {
            "needs_background": "light"
          },
          "output_type": "display_data"
        }
      ],
      "source": [
        "plt.figure(figsize=(12,8))\n",
        "\n",
        "from sklearn import tree\n",
        "\n",
        "tree.plot_tree(clf_gini.fit(x_train, y_train))"
      ]
    },
    {
      "cell_type": "markdown",
      "metadata": {
        "id": "EGR1Kh6m_Pf3"
      },
      "source": [
        "Decision Tree Classifier with criterion entropy"
      ]
    },
    {
      "cell_type": "code",
      "execution_count": null,
      "metadata": {
        "id": "YJlde7-D_Pf3",
        "outputId": "7d0c228b-fc33-4a97-b5b3-2fc70d63d5a7"
      },
      "outputs": [
        {
          "data": {
            "text/plain": [
              "DecisionTreeClassifier(criterion='entropy', max_depth=3, random_state=0)"
            ]
          },
          "execution_count": 46,
          "metadata": {},
          "output_type": "execute_result"
        }
      ],
      "source": [
        "clf_en = DecisionTreeClassifier(criterion='entropy', max_depth=3, random_state=0)\n",
        "\n",
        "\n",
        "# fit the model\n",
        "clf_en.fit(x_train, y_train)"
      ]
    },
    {
      "cell_type": "code",
      "execution_count": null,
      "metadata": {
        "id": "2m3dgA-O_Pf4"
      },
      "outputs": [],
      "source": [
        "y_pred_en = clf_en.predict(x_test)"
      ]
    },
    {
      "cell_type": "code",
      "execution_count": null,
      "metadata": {
        "id": "X-WqfFW7_Pf4",
        "outputId": "7acdd6d5-a796-49ca-9664-8862b8513b49"
      },
      "outputs": [
        {
          "name": "stdout",
          "output_type": "stream",
          "text": [
            "Model accuracy score with criterion entropy: 0.9259\n"
          ]
        }
      ],
      "source": [
        "from sklearn.metrics import accuracy_score\n",
        "\n",
        "print('Model accuracy score with criterion entropy: {0:0.4f}'. format(accuracy_score(y_test, y_pred_en)))"
      ]
    },
    {
      "cell_type": "code",
      "execution_count": null,
      "metadata": {
        "id": "CMPSciUk_Pf4",
        "outputId": "dca24e18-4510-4390-acbc-e886d515cc08"
      },
      "outputs": [
        {
          "data": {
            "text/plain": [
              "array([0, 0, 0, ..., 0, 0, 0], dtype=int64)"
            ]
          },
          "execution_count": 49,
          "metadata": {},
          "output_type": "execute_result"
        }
      ],
      "source": [
        "y_pred_train_en = clf_en.predict(x_train)\n",
        "\n",
        "y_pred_train_en"
      ]
    },
    {
      "cell_type": "code",
      "execution_count": null,
      "metadata": {
        "id": "m-qaK6P2_Pf5",
        "outputId": "6df8a336-816a-455c-d92c-a590ab015474"
      },
      "outputs": [
        {
          "name": "stdout",
          "output_type": "stream",
          "text": [
            "Training-set accuracy score: 0.9268\n"
          ]
        }
      ],
      "source": [
        "print('Training-set accuracy score: {0:0.4f}'. format(accuracy_score(y_train, y_pred_train_en)))"
      ]
    },
    {
      "cell_type": "markdown",
      "metadata": {
        "id": "ss2H1IJn_Pf5"
      },
      "source": [
        "Check for overfitting and underfitting"
      ]
    },
    {
      "cell_type": "code",
      "execution_count": null,
      "metadata": {
        "id": "62RWuX0r_Pf5",
        "outputId": "59893564-39e6-437f-ff4b-f9cc562bf787"
      },
      "outputs": [
        {
          "name": "stdout",
          "output_type": "stream",
          "text": [
            "Training set score: 0.9230\n",
            "Test set score: 0.9227\n"
          ]
        }
      ],
      "source": [
        "# print the scores on training and test set\n",
        "\n",
        "print('Training set score: {:.4f}'.format(clf_gini.score(x_train, y_train)))\n",
        "\n",
        "print('Test set score: {:.4f}'.format(clf_gini.score(x_test, y_test)))"
      ]
    },
    {
      "cell_type": "code",
      "execution_count": null,
      "metadata": {
        "id": "zCCWkHV7_Pf6",
        "outputId": "118caa22-1119-4c81-f3aa-29d19bb994bf"
      },
      "outputs": [
        {
          "data": {
            "text/html": [
              "<div>\n",
              "<style scoped>\n",
              "    .dataframe tbody tr th:only-of-type {\n",
              "        vertical-align: middle;\n",
              "    }\n",
              "\n",
              "    .dataframe tbody tr th {\n",
              "        vertical-align: top;\n",
              "    }\n",
              "\n",
              "    .dataframe thead th {\n",
              "        text-align: right;\n",
              "    }\n",
              "</style>\n",
              "<table border=\"1\" class=\"dataframe\">\n",
              "  <thead>\n",
              "    <tr style=\"text-align: right;\">\n",
              "      <th></th>\n",
              "      <th>0</th>\n",
              "    </tr>\n",
              "  </thead>\n",
              "  <tbody>\n",
              "    <tr>\n",
              "      <th>0</th>\n",
              "      <td>1</td>\n",
              "    </tr>\n",
              "    <tr>\n",
              "      <th>1</th>\n",
              "      <td>0</td>\n",
              "    </tr>\n",
              "    <tr>\n",
              "      <th>2</th>\n",
              "      <td>0</td>\n",
              "    </tr>\n",
              "    <tr>\n",
              "      <th>3</th>\n",
              "      <td>0</td>\n",
              "    </tr>\n",
              "    <tr>\n",
              "      <th>4</th>\n",
              "      <td>0</td>\n",
              "    </tr>\n",
              "    <tr>\n",
              "      <th>...</th>\n",
              "      <td>...</td>\n",
              "    </tr>\n",
              "    <tr>\n",
              "      <th>1301</th>\n",
              "      <td>0</td>\n",
              "    </tr>\n",
              "    <tr>\n",
              "      <th>1302</th>\n",
              "      <td>0</td>\n",
              "    </tr>\n",
              "    <tr>\n",
              "      <th>1303</th>\n",
              "      <td>1</td>\n",
              "    </tr>\n",
              "    <tr>\n",
              "      <th>1304</th>\n",
              "      <td>0</td>\n",
              "    </tr>\n",
              "    <tr>\n",
              "      <th>1305</th>\n",
              "      <td>0</td>\n",
              "    </tr>\n",
              "  </tbody>\n",
              "</table>\n",
              "<p>1306 rows × 1 columns</p>\n",
              "</div>"
            ],
            "text/plain": [
              "      0\n",
              "0     1\n",
              "1     0\n",
              "2     0\n",
              "3     0\n",
              "4     0\n",
              "...  ..\n",
              "1301  0\n",
              "1302  0\n",
              "1303  1\n",
              "1304  0\n",
              "1305  0\n",
              "\n",
              "[1306 rows x 1 columns]"
            ]
          },
          "execution_count": 52,
          "metadata": {},
          "output_type": "execute_result"
        }
      ],
      "source": [
        "pred_is_promoted_2 = clf_en.predict(df)\n",
        "pred_is_promoted_2\n",
        "fg = pd.DataFrame(pred_is_promoted_2)\n",
        "fg"
      ]
    },
    {
      "cell_type": "code",
      "execution_count": null,
      "metadata": {
        "id": "-IK8RGcB_Pf6",
        "outputId": "f2c0ae4f-7f0b-4987-fb8b-5fa7a30bdf05"
      },
      "outputs": [
        {
          "data": {
            "text/html": [
              "<div>\n",
              "<style scoped>\n",
              "    .dataframe tbody tr th:only-of-type {\n",
              "        vertical-align: middle;\n",
              "    }\n",
              "\n",
              "    .dataframe tbody tr th {\n",
              "        vertical-align: top;\n",
              "    }\n",
              "\n",
              "    .dataframe thead th {\n",
              "        text-align: right;\n",
              "    }\n",
              "</style>\n",
              "<table border=\"1\" class=\"dataframe\">\n",
              "  <thead>\n",
              "    <tr style=\"text-align: right;\">\n",
              "      <th></th>\n",
              "      <th>0</th>\n",
              "    </tr>\n",
              "  </thead>\n",
              "  <tbody>\n",
              "    <tr>\n",
              "      <th>count</th>\n",
              "      <td>1306.000000</td>\n",
              "    </tr>\n",
              "    <tr>\n",
              "      <th>mean</th>\n",
              "      <td>0.094946</td>\n",
              "    </tr>\n",
              "    <tr>\n",
              "      <th>std</th>\n",
              "      <td>0.293253</td>\n",
              "    </tr>\n",
              "    <tr>\n",
              "      <th>min</th>\n",
              "      <td>0.000000</td>\n",
              "    </tr>\n",
              "    <tr>\n",
              "      <th>25%</th>\n",
              "      <td>0.000000</td>\n",
              "    </tr>\n",
              "    <tr>\n",
              "      <th>50%</th>\n",
              "      <td>0.000000</td>\n",
              "    </tr>\n",
              "    <tr>\n",
              "      <th>75%</th>\n",
              "      <td>0.000000</td>\n",
              "    </tr>\n",
              "    <tr>\n",
              "      <th>max</th>\n",
              "      <td>1.000000</td>\n",
              "    </tr>\n",
              "  </tbody>\n",
              "</table>\n",
              "</div>"
            ],
            "text/plain": [
              "                 0\n",
              "count  1306.000000\n",
              "mean      0.094946\n",
              "std       0.293253\n",
              "min       0.000000\n",
              "25%       0.000000\n",
              "50%       0.000000\n",
              "75%       0.000000\n",
              "max       1.000000"
            ]
          },
          "execution_count": 55,
          "metadata": {},
          "output_type": "execute_result"
        }
      ],
      "source": [
        "fg.describe()"
      ]
    },
    {
      "cell_type": "code",
      "execution_count": null,
      "metadata": {
        "id": "XdK0ZJ8O_Pf7"
      },
      "outputs": [],
      "source": [
        "fg.to_csv(r\"E:\\\\Integrated Program of Business Analytics (IPBA8)- Business Analytics\\\\CAPSTONE project\\\\IPBA _Batch 8_GROUP L - HR Analtyics - Final Project from JA\\\\Predict_DecisionTree.csv\", index=False )"
      ]
    },
    {
      "cell_type": "markdown",
      "metadata": {
        "id": "dtljul6f_Pf7"
      },
      "source": [
        "Visualise Decision Tree"
      ]
    },
    {
      "cell_type": "code",
      "execution_count": null,
      "metadata": {
        "id": "pqT46kkN_Pf7",
        "outputId": "2d078755-99a9-4eb0-fc0d-e99f423c3676"
      },
      "outputs": [
        {
          "data": {
            "text/plain": [
              "[Text(334.8, 380.52, 'X[10] <= 0.5\\nentropy = 0.42\\nsamples = 38365\\nvalue = [35101, 3264]'),\n",
              " Text(167.4, 271.8, 'X[12] <= 57.5\\nentropy = 0.242\\nsamples = 24860\\nvalue = [23869, 991]'),\n",
              " Text(83.7, 163.07999999999998, 'X[12] <= 53.5\\nentropy = 0.014\\nsamples = 10787\\nvalue = [10773, 14]'),\n",
              " Text(41.85, 54.360000000000014, 'entropy = 0.0\\nsamples = 8878\\nvalue = [8878, 0]'),\n",
              " Text(125.55000000000001, 54.360000000000014, 'entropy = 0.063\\nsamples = 1909\\nvalue = [1895, 14]'),\n",
              " Text(251.10000000000002, 163.07999999999998, 'X[1] <= 0.5\\nentropy = 0.364\\nsamples = 14073\\nvalue = [13096, 977]'),\n",
              " Text(209.25, 54.360000000000014, 'entropy = 0.286\\nsamples = 260\\nvalue = [13, 247]'),\n",
              " Text(292.95, 54.360000000000014, 'entropy = 0.298\\nsamples = 13813\\nvalue = [13083, 730]'),\n",
              " Text(502.20000000000005, 271.8, 'X[12] <= 89.5\\nentropy = 0.654\\nsamples = 13505\\nvalue = [11232, 2273]'),\n",
              " Text(418.5, 163.07999999999998, 'X[11] <= 0.5\\nentropy = 0.615\\nsamples = 13187\\nvalue = [11184, 2003]'),\n",
              " Text(376.65000000000003, 54.360000000000014, 'entropy = 0.601\\nsamples = 12703\\nvalue = [10841, 1862]'),\n",
              " Text(460.35, 54.360000000000014, 'entropy = 0.87\\nsamples = 484\\nvalue = [343, 141]'),\n",
              " Text(585.9, 163.07999999999998, 'X[1] <= 2.5\\nentropy = 0.612\\nsamples = 318\\nvalue = [48, 270]'),\n",
              " Text(544.0500000000001, 54.360000000000014, 'entropy = 0.0\\nsamples = 168\\nvalue = [0, 168]'),\n",
              " Text(627.75, 54.360000000000014, 'entropy = 0.904\\nsamples = 150\\nvalue = [48, 102]')]"
            ]
          },
          "execution_count": 57,
          "metadata": {},
          "output_type": "execute_result"
        },
        {
          "data": {
            "image/png": "[encoded data removed]",
            "text/plain": [
              "<Figure size 864x576 with 1 Axes>"
            ]
          },
          "metadata": {
            "needs_background": "light"
          },
          "output_type": "display_data"
        }
      ],
      "source": [
        "plt.figure(figsize=(12,8))\n",
        "\n",
        "from sklearn import tree\n",
        "\n",
        "tree.plot_tree(clf_en.fit(x_train, y_train))"
      ]
    },
    {
      "cell_type": "code",
      "execution_count": null,
      "metadata": {
        "id": "JQ5q4hE7_Pf7",
        "outputId": "6a0f3520-d3d3-424d-f33d-876f8de83e70"
      },
      "outputs": [
        {
          "name": "stdout",
          "output_type": "stream",
          "text": [
            "Confusion matrix\n",
            "\n",
            " [[15021    18]\n",
            " [ 1200   204]]\n"
          ]
        }
      ],
      "source": [
        "# Print the Confusion Matrix and slice it into four pieces\n",
        "\n",
        "from sklearn.metrics import confusion_matrix\n",
        "\n",
        "cm = confusion_matrix(y_test, y_pred_en)\n",
        "\n",
        "print('Confusion matrix\\n\\n', cm)"
      ]
    },
    {
      "cell_type": "code",
      "execution_count": null,
      "metadata": {
        "id": "z2jKPF7N_Pf8",
        "outputId": "2523b4a4-6ab7-43be-ece7-fa8d6528ae29"
      },
      "outputs": [
        {
          "name": "stdout",
          "output_type": "stream",
          "text": [
            "              precision    recall  f1-score   support\n",
            "\n",
            "           0       0.93      1.00      0.96     15039\n",
            "           1       0.92      0.15      0.25      1404\n",
            "\n",
            "    accuracy                           0.93     16443\n",
            "   macro avg       0.92      0.57      0.61     16443\n",
            "weighted avg       0.93      0.93      0.90     16443\n",
            "\n"
          ]
        }
      ],
      "source": [
        "from sklearn.metrics import classification_report\n",
        "\n",
        "print(classification_report(y_test, y_pred_en))"
      ]
    },
    {
      "cell_type": "markdown",
      "metadata": {
        "id": "NInj-KDi_Pf8"
      },
      "source": [
        "# -------------------------------------------------------------------------------------------------------------"
      ]
    },
    {
      "cell_type": "markdown",
      "metadata": {
        "id": "vyrQKsfr_Pf8"
      },
      "source": [
        "# Random Forest"
      ]
    },
    {
      "cell_type": "code",
      "execution_count": null,
      "metadata": {
        "id": "p2mMCfcH_Pf9"
      },
      "outputs": [],
      "source": [
        "from sklearn.model_selection import train_test_split\n",
        "X = hr_data.drop('is_promoted', axis = 1)\n",
        "y = hr_data['is_promoted']\n",
        "\n",
        "\n",
        "X_train, X_test, y_train, y_test = train_test_split(X, y, test_size = 0.3, random_state = 0)"
      ]
    },
    {
      "cell_type": "code",
      "execution_count": null,
      "metadata": {
        "id": "Sy6hzy1q_Pf9",
        "outputId": "be5c4d47-ccca-496b-8a64-82bc7ec85dbe"
      },
      "outputs": [
        {
          "data": {
            "text/plain": [
              "((38365, 13), (16443, 13))"
            ]
          },
          "execution_count": 6,
          "metadata": {},
          "output_type": "execute_result"
        }
      ],
      "source": [
        "X_train.shape, X_test.shape"
      ]
    },
    {
      "cell_type": "code",
      "execution_count": null,
      "metadata": {
        "id": "V8DdwRuD_Pf9",
        "outputId": "ed8111ee-d01b-4169-8afb-547f5edba588"
      },
      "outputs": [
        {
          "name": "stdout",
          "output_type": "stream",
          "text": [
            "Model accuracy score with 10 decision-trees : 0.9327\n"
          ]
        }
      ],
      "source": [
        "# import Random Forest classifier\n",
        "from sklearn.ensemble import RandomForestClassifier\n",
        "# instantiate the classifier\n",
        "randomforest = RandomForestClassifier(random_state=0)\n",
        "# fit the model\n",
        "randomforest.fit(X_train, y_train)\n",
        "# Predict the Test set results\n",
        "y_pred = randomforest.predict(X_test)\n",
        "# Check accuracy score\n",
        "from sklearn.metrics import accuracy_score\n",
        "print('Model accuracy score with 10 decision-trees : {0:0.4f}'. format(accuracy_score(y_test, y_pred)))"
      ]
    },
    {
      "cell_type": "code",
      "execution_count": null,
      "metadata": {
        "id": "R3IA3wcK_Pf9",
        "outputId": "9d2377ac-c894-42a6-ff6b-a1e44a3e95e0"
      },
      "outputs": [
        {
          "name": "stdout",
          "output_type": "stream",
          "text": [
            "Model accuracy score with 100 decision-trees : 0.9320\n"
          ]
        }
      ],
      "source": [
        "# instantiate the classifier with n_estimators = 50\n",
        "rfc_50 = RandomForestClassifier(n_estimators=50, random_state=0)\n",
        "# fit the model to the training set\n",
        "rfc_50.fit(X_train, y_train)\n",
        "# Predict on the test set results\n",
        "y_pred_50 = rfc_50.predict(X_test)\n",
        "# Check accuracy score\n",
        "print('Model accuracy score with 100 decision-trees : {0:0.4f}'. format(accuracy_score(y_test, y_pred_50)))"
      ]
    },
    {
      "cell_type": "code",
      "execution_count": null,
      "metadata": {
        "id": "kUPyDSPc_Pf-",
        "outputId": "5f34a364-1170-4e55-d056-83055e761924"
      },
      "outputs": [
        {
          "data": {
            "text/plain": [
              "education               0.015315\n",
              "no_of_trainings         0.017271\n",
              "gender                  0.019611\n",
              "awards_won?             0.028003\n",
              "recruitment_channel     0.029067\n",
              "KPIs_met >80%           0.045022\n",
              "previous_year_rating    0.047260\n",
              "length_of_service       0.084238\n",
              "region                  0.087636\n",
              "department              0.102646\n",
              "age                     0.103731\n",
              "employee_id             0.168117\n",
              "avg_training_score      0.252084\n",
              "dtype: float64"
            ]
          },
          "execution_count": 9,
          "metadata": {},
          "output_type": "execute_result"
        }
      ],
      "source": [
        "feature_scores = pd.Series(rfc_50.feature_importances_, index=X_train.columns).sort_values(ascending=True)\n",
        "feature_scores"
      ]
    },
    {
      "cell_type": "code",
      "execution_count": null,
      "metadata": {
        "id": "ivMJsL17_Pf-",
        "outputId": "f0d017fa-5122-4cb7-aba6-b8fcea899996"
      },
      "outputs": [
        {
          "name": "stdout",
          "output_type": "stream",
          "text": [
            "[0.16811663 0.10264591 0.08763592 0.01531532 0.0196106  0.02906726\n",
            " 0.01727102 0.10373112 0.04725955 0.08423826 0.04502201 0.02800268\n",
            " 0.25208371]\n",
            " There are 13 features in total\n"
          ]
        }
      ],
      "source": [
        "print(rfc_50.feature_importances_)\n",
        "print(f\" There are {len(rfc_50.feature_importances_)} features in total\")"
      ]
    },
    {
      "cell_type": "code",
      "execution_count": null,
      "metadata": {
        "id": "7cFz73jx_Pf-"
      },
      "outputs": [],
      "source": [
        "X_train = X_train.drop(['employee_id'], axis=1)\n",
        "\n",
        "X_test = X_test.drop(['employee_id'], axis=1)"
      ]
    },
    {
      "cell_type": "code",
      "execution_count": null,
      "metadata": {
        "id": "fjkfNVEJ_Pf_",
        "outputId": "a8a0443f-c81d-4858-e7ae-610aee50de5a"
      },
      "outputs": [
        {
          "data": {
            "text/plain": [
              "Index(['department', 'region', 'education', 'gender', 'recruitment_channel',\n",
              "       'no_of_trainings', 'age', 'previous_year_rating', 'length_of_service',\n",
              "       'KPIs_met >80%', 'awards_won?', 'avg_training_score'],\n",
              "      dtype='object')"
            ]
          },
          "execution_count": 19,
          "metadata": {},
          "output_type": "execute_result"
        }
      ],
      "source": [
        "X_train.columns"
      ]
    },
    {
      "cell_type": "code",
      "execution_count": null,
      "metadata": {
        "id": "YgZJHRB1_Pf_",
        "outputId": "ba16862c-0ca7-4365-e56f-a2a176e99a18"
      },
      "outputs": [
        {
          "name": "stdout",
          "output_type": "stream",
          "text": [
            "Model accuracy score with employee_id variable removed : 0.9319\n"
          ]
        }
      ],
      "source": [
        "# instantiate the classifier with n_estimators = 100\n",
        "clf = RandomForestClassifier(n_estimators=100, random_state=0)\n",
        "# fit the model to the training set\n",
        "clf.fit(X_train, y_train)\n",
        "# Predict on the test set results\n",
        "y_pred = clf.predict(X_test)\n",
        "# Check accuracy score\n",
        "print('Model accuracy score with employee_id variable removed : {0:0.4f}'. format(accuracy_score(y_test, y_pred)))"
      ]
    },
    {
      "cell_type": "code",
      "execution_count": null,
      "metadata": {
        "id": "4dDcpyl7_Pf_",
        "outputId": "c6300864-6cec-49f4-8791-9183fb458b91"
      },
      "outputs": [
        {
          "data": {
            "text/plain": [
              "avg_training_score      0.300885\n",
              "age                     0.138704\n",
              "region                  0.114980\n",
              "department              0.113759\n",
              "length_of_service       0.106903\n",
              "previous_year_rating    0.052435\n",
              "KPIs_met >80%           0.044403\n",
              "recruitment_channel     0.035489\n",
              "awards_won?             0.028146\n",
              "gender                  0.022868\n",
              "no_of_trainings         0.022415\n",
              "education               0.019013\n",
              "dtype: float64"
            ]
          },
          "execution_count": 13,
          "metadata": {},
          "output_type": "execute_result"
        }
      ],
      "source": [
        "feature_scores_2 = pd.Series(clf.feature_importances_, index=X_train.columns).sort_values(ascending=False)\n",
        "feature_scores_2\n"
      ]
    },
    {
      "cell_type": "code",
      "execution_count": null,
      "metadata": {
        "id": "jvo6ePQB_PgA",
        "outputId": "fbf32310-a2ba-40c6-8748-4c040fe666df"
      },
      "outputs": [
        {
          "data": {
            "text/plain": [
              "<BarContainer object of 12 artists>"
            ]
          },
          "execution_count": 22,
          "metadata": {},
          "output_type": "execute_result"
        },
        {
          "data": {
            "image/png": "[encoded data removed]",
            "text/plain": [
              "<Figure size 432x288 with 1 Axes>"
            ]
          },
          "metadata": {
            "needs_background": "light"
          },
          "output_type": "display_data"
        }
      ],
      "source": [
        "plt.barh(X_train.columns, feature_scores_2)"
      ]
    },
    {
      "cell_type": "code",
      "execution_count": null,
      "metadata": {
        "id": "LNhszEAU_PgA",
        "outputId": "b223c35c-a245-4c00-b597-86aa2ea31d9e"
      },
      "outputs": [
        {
          "name": "stdout",
          "output_type": "stream",
          "text": [
            "Confusion matrix\n",
            "\n",
            " [[14950    70]\n",
            " [ 1049   374]]\n"
          ]
        }
      ],
      "source": [
        "from sklearn.metrics import confusion_matrix\n",
        "\n",
        "cm = confusion_matrix(y_test, y_pred)\n",
        "\n",
        "print('Confusion matrix\\n\\n', cm)"
      ]
    },
    {
      "cell_type": "code",
      "execution_count": null,
      "metadata": {
        "id": "Lkp4FfhS_PgA",
        "outputId": "efb077e6-cf28-403d-d5eb-c3a59b5b2d1b"
      },
      "outputs": [
        {
          "data": {
            "text/plain": [
              "<AxesSubplot:>"
            ]
          },
          "execution_count": 24,
          "metadata": {},
          "output_type": "execute_result"
        },
        {
          "data": {
            "image/png": "[encoded data removed]",
            "text/plain": [
              "<Figure size 432x288 with 2 Axes>"
            ]
          },
          "metadata": {
            "needs_background": "light"
          },
          "output_type": "display_data"
        }
      ],
      "source": [
        "# visualize confusion matrix with seaborn heatmap\n",
        "\n",
        "cm_matrix = pd.DataFrame(data=cm, columns=['Actual Positive:1', 'Actual Negative:0'],\n",
        "                                 index=['Predict Positive:1', 'Predict Negative:0'])\n",
        "\n",
        "sns.heatmap(cm_matrix, annot=True, fmt='d', cmap='YlGnBu')"
      ]
    },
    {
      "cell_type": "code",
      "execution_count": null,
      "metadata": {
        "id": "NSxSvWLG_PgB",
        "outputId": "264d2969-3b62-4d3e-bda1-7e9fadba9376"
      },
      "outputs": [
        {
          "name": "stdout",
          "output_type": "stream",
          "text": [
            "              precision    recall  f1-score   support\n",
            "\n",
            "           0       0.93      1.00      0.96     15020\n",
            "           1       0.84      0.26      0.40      1423\n",
            "\n",
            "    accuracy                           0.93     16443\n",
            "   macro avg       0.89      0.63      0.68     16443\n",
            "weighted avg       0.93      0.93      0.92     16443\n",
            "\n"
          ]
        }
      ],
      "source": [
        "from sklearn.metrics import classification_report\n",
        "\n",
        "print(classification_report(y_test, y_pred))"
      ]
    },
    {
      "cell_type": "code",
      "execution_count": null,
      "metadata": {
        "id": "Ql_FytMK_PgB",
        "outputId": "2958905b-fb72-4374-dcd5-bdf4265dfa96"
      },
      "outputs": [
        {
          "data": {
            "text/html": [
              "<div>\n",
              "<style scoped>\n",
              "    .dataframe tbody tr th:only-of-type {\n",
              "        vertical-align: middle;\n",
              "    }\n",
              "\n",
              "    .dataframe tbody tr th {\n",
              "        vertical-align: top;\n",
              "    }\n",
              "\n",
              "    .dataframe thead th {\n",
              "        text-align: right;\n",
              "    }\n",
              "</style>\n",
              "<table border=\"1\" class=\"dataframe\">\n",
              "  <thead>\n",
              "    <tr style=\"text-align: right;\">\n",
              "      <th></th>\n",
              "      <th>0</th>\n",
              "    </tr>\n",
              "  </thead>\n",
              "  <tbody>\n",
              "    <tr>\n",
              "      <th>0</th>\n",
              "      <td>1</td>\n",
              "    </tr>\n",
              "    <tr>\n",
              "      <th>1</th>\n",
              "      <td>0</td>\n",
              "    </tr>\n",
              "    <tr>\n",
              "      <th>2</th>\n",
              "      <td>0</td>\n",
              "    </tr>\n",
              "    <tr>\n",
              "      <th>3</th>\n",
              "      <td>0</td>\n",
              "    </tr>\n",
              "    <tr>\n",
              "      <th>4</th>\n",
              "      <td>0</td>\n",
              "    </tr>\n",
              "    <tr>\n",
              "      <th>...</th>\n",
              "      <td>...</td>\n",
              "    </tr>\n",
              "    <tr>\n",
              "      <th>1301</th>\n",
              "      <td>0</td>\n",
              "    </tr>\n",
              "    <tr>\n",
              "      <th>1302</th>\n",
              "      <td>0</td>\n",
              "    </tr>\n",
              "    <tr>\n",
              "      <th>1303</th>\n",
              "      <td>1</td>\n",
              "    </tr>\n",
              "    <tr>\n",
              "      <th>1304</th>\n",
              "      <td>0</td>\n",
              "    </tr>\n",
              "    <tr>\n",
              "      <th>1305</th>\n",
              "      <td>0</td>\n",
              "    </tr>\n",
              "  </tbody>\n",
              "</table>\n",
              "<p>1306 rows × 1 columns</p>\n",
              "</div>"
            ],
            "text/plain": [
              "      0\n",
              "0     1\n",
              "1     0\n",
              "2     0\n",
              "3     0\n",
              "4     0\n",
              "...  ..\n",
              "1301  0\n",
              "1302  0\n",
              "1303  1\n",
              "1304  0\n",
              "1305  0\n",
              "\n",
              "[1306 rows x 1 columns]"
            ]
          },
          "execution_count": 28,
          "metadata": {},
          "output_type": "execute_result"
        }
      ],
      "source": [
        "rain_is_promoted = rfc_50.predict(df)\n",
        "rain_is_promoted\n",
        "po = pd.DataFrame(rain_is_promoted)\n",
        "po"
      ]
    },
    {
      "cell_type": "code",
      "execution_count": null,
      "metadata": {
        "id": "GfSdjNFM_PgB"
      },
      "outputs": [],
      "source": [
        "po.to_csv(r\"E:\\\\Integrated Program of Business Analytics (IPBA8)- Business Analytics\\\\CAPSTONE project\\\\IPBA _Batch 8_GROUP L - HR Analtyics - Final Project from JA\\\\Predict_Rainforest.csv\", index=False )"
      ]
    },
    {
      "cell_type": "code",
      "execution_count": null,
      "metadata": {
        "id": "DiHX_27H_PgB"
      },
      "outputs": [],
      "source": []
    }
  ],
  "metadata": {
    "kernelspec": {
      "display_name": "Python 3",
      "language": "python",
      "name": "python3"
    },
    "language_info": {
      "codemirror_mode": {
        "name": "ipython",
        "version": 3
      },
      "file_extension": ".py",
      "mimetype": "text/x-python",
      "name": "python",
      "nbconvert_exporter": "python",
      "pygments_lexer": "ipython3",
      "version": "3.8.5"
    },
    "colab": {
      "provenance": []
    }
  },
  "nbformat": 4,
  "nbformat_minor": 0
}